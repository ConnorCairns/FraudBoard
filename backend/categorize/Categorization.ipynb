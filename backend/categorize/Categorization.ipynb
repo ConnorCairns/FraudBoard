{
 "cells": [
  {
   "cell_type": "code",
   "execution_count": 1,
   "metadata": {},
   "outputs": [],
   "source": [
    "import boto3\n",
    "from sklearn.feature_extraction.text import TfidfVectorizer\n",
    "from sklearn.cluster import KMeans\n",
    "from sklearn.metrics import silhouette_score\n",
    "import pandas as pd\n",
    "import matplotlib.pyplot as plt\n",
    "import seaborn as sns\n",
    "from tqdm.notebook import tqdm"
   ]
  },
  {
   "cell_type": "markdown",
   "metadata": {},
   "source": [
    "# Getting Tokens"
   ]
  },
  {
   "cell_type": "code",
   "execution_count": 2,
   "metadata": {},
   "outputs": [],
   "source": [
    "TABLE = \"domains\"\n",
    "\n",
    "def add_to_tokens_list(tokens, costs, items):\n",
    "    for item in items:\n",
    "        tokens[item[\"domain_name\"]] = item[\"tokens\"]\n",
    "        costs[item[\"domain_name\"]] = float(item[\"total_spent\"]) #DynamoDB stores as Decimal\n",
    "\n",
    "    return tokens, costs\n",
    "\n",
    "\n",
    "def get_tokens():\n",
    "    tokens = {}\n",
    "    costs = {}\n",
    "\n",
    "    dynamo = boto3.resource(\"dynamodb\").Table(TABLE)\n",
    "\n",
    "    res = dynamo.scan()\n",
    "    tokens, costs = add_to_tokens_list(tokens, costs, res[\"Items\"])\n",
    "\n",
    "    while \"LastEvaluatedKey\" in res:\n",
    "        res = dynamo.scan(ExclusiveStartKey=res[\"LastEvaluatedKey\"])\n",
    "        tokens = add_to_tokens_list(tokens, res[\"Items\"])\n",
    "\n",
    "    return tokens, costs"
   ]
  },
  {
   "cell_type": "code",
   "execution_count": 3,
   "metadata": {},
   "outputs": [
    {
     "data": {
      "text/plain": [
       "['prestigeglobalchem.com',\n",
       " 'omaghenshihtzuhome.com',\n",
       " 'southhilltoppuppies.com',\n",
       " 'johnbellteacupmaltese.com',\n",
       " 'CJKETAMINESTORE.NET',\n",
       " 'purechempharma.com',\n",
       " 'tomh.uk',\n",
       " 'monarchbulldogs-sa.com',\n",
       " 'jungleboyspacks.com',\n",
       " 'FAITHSTANDARDPHARMACY.COM',\n",
       " 'premiumdachshundpups.com',\n",
       " 'K2DRUGSTORE.COM',\n",
       " 'STRANDNORDBV.COM',\n",
       " 'SKYPHARMACYPILS.COM',\n",
       " 'vland-official.com',\n",
       " 'megaketaminestore.com',\n",
       " 'ketamineforsale.com',\n",
       " 'shihtzupuppiesforsale-us.com',\n",
       " 'MORRISAPOTEK.COM',\n",
       " 'percocetpills.com',\n",
       " 'pelluciddalmatianpuppieshome.com',\n",
       " 'DROMEDARYVILLE.COM',\n",
       " 'ROYALSITEYORKSHIRETERRIERPUPPIES.COM',\n",
       " 'PUPPYSTASHKENNELAU.COM',\n",
       " 'cutestdoodleskennel.com',\n",
       " 'bradsmaltipoos.com']"
      ]
     },
     "execution_count": 3,
     "metadata": {},
     "output_type": "execute_result"
    }
   ],
   "source": [
    "tokens, costs = get_tokens()\n",
    "list(tokens.keys())"
   ]
  },
  {
   "cell_type": "code",
   "execution_count": 4,
   "metadata": {},
   "outputs": [],
   "source": [
    "import torch\n",
    "from transformers import pipeline\n",
    "classifier = pipeline(\"zero-shot-classification\",\n",
    "                      model=\"facebook/bart-large-mnli\")\n",
    "\n",
    "# tokenizer = AutoTokenizer.from_pretrained(\"facebook/bart-large-mnli\")\n",
    "\n",
    "# model = AutoModelForSequenceClassification.from_pretrained(\"facebook/bart-large-mnli\")"
   ]
  },
  {
   "cell_type": "code",
   "execution_count": 7,
   "metadata": {},
   "outputs": [
    {
     "data": {
      "text/plain": [
       "{'sequence': 'home buy ketamin onlin skip contentbuy ketamin onlineleg ketamin shop ketamin sale onlinehom shop contact us us ship inform account cart checkout buy ketamin onlin ketamin sale ketamin onlin store legal ketamin product ketaminebuy ketamin hcl liquid onlin add cart ketaminebuy ketamin powder onlin add cart ketamin buy ketamin liquid onlin add cart ketamin ketamin brand name ketalar dissoci anesthet block sensori percept avail prescript ketamin drug sinc human veterinari use dissoci drug lead distort sight color sound self one environ ketamin clinic avail clear liquid powder form intraven inject ketamin depress treatment dissoci drug includ phencyclidin pcp dextromethorphan dxm ketamin provid pain relief memori loss exampl amnesia medic procedur surgeri use induct mainten agent sedat provid general anesthesia also use pain control burn therapi ketamin side effect battlefield injuri children use anesthet due side effect allergi drug also research hold promis treatment sever depress difficult case often prefer anesthet due lower chanc depress breath often occur opioid https buy ketamin onlin https buy ketamin onlin without prescript ketamineketamin ketalar capsul ketamin highrat add cart ketamineketamin ketalar powder ketamin treatmentr add cart ketaminebuy ketamin hcl liquid onlin add cart ketaminebuy ketamin powder onlin add cart ketamin buy ketamin liquid onlin add cart sale ketamineketamin sale onlin add cart quick ketamin work inject yield quick respons effect occur minut snort take rough minut oral consumpt requir minut effect abus typic last hour user judgment sens coordin may affect hour longer ketamin high ketamin treatment sensat user may seek includ float stimul visual effect high dose may danger reduc breath lead muscl spasm weak ketamin clinic dizzi balanc difficulti impair vision slur speech nausea vomit ketamin treatment sever confus bing use user indulg drug excess amount short period time report well tagsbuy cheap ketamin onlin buy ketamin hcl onlin buy ketamin onlin buy ketamin onlin prescript buy ketamin onlin usa buy legal ketamin onlin buy liquid ketamin onlin buy onlin ketamin cocain ketamin defin ketamin histori ketamin long ketamin last long ketamin stay system long ketamin stay urin buy ketamin onlin get ketamin im ketamin intranas ketamin ketamin opiat ketamin danger ketamin legal iv ketamin ketamin ketamina ketamin ketamin depress ketamin clinic ketamin definit ketamin depress treatment ketamin dosag ketamin drug ketamin drug test ketamin effect ketamin anxieti ketamin pain ketamin sale ketamin high ketamin infus ketamin inject ketamin pill ketamin side effect ketamin therapi ketamin treatment ketamin treatment depress onlin ketamin buy pleas leav field emptylet keep touch love keep updat latest news offer spam read privaci polici info check inbox spam folder confirm subscript product ketamin ketalar capsul ketamin high rate ketamin ketalar powder ketamin treatment rate buy ketamin hcl liquid onlin buy ketamin powder onlin buy ketamin liquid onlin ketamin sale onlin keywordsbuy cheap ketamin onlin buy ketamin hcl onlin buy ketamin onlin buy ketamin onlin prescript buy ketamin onlin usa buy legal ketamin onlin buy liquid ketamin onlin buy onlin ketamin cocain ketamin defin ketamin histori ketamin long ketamin last long ketamin stay system long ketamin stay urin buy ketamin onlin get ketamin im ketamin intranas ketamin ketamin opiat ketamin danger ketamin legal iv ketamin ketamin ketamina ketamin ketamin depress ketamin clinic ketamin definit ketamin depress treatment ketamin dosag ketamin drug ketamin drug test ketamin effect ketamin anxieti ketamin pain ketamin sale ketamin high ketamin infus ketamin inject ketamin pill ketamin side effect ketamin therapi ketamin treatment ketamin treatment depress onlin ketamin buy home shop contact us us account buy ketamin onlin right reserv',\n",
       " 'labels': ['drugs', 'pharmacy', 'automotive', 'pets'],\n",
       " 'scores': [0.42000851035118103,\n",
       "  0.3560083508491516,\n",
       "  0.15566155314445496,\n",
       "  0.06832164525985718]}"
      ]
     },
     "execution_count": 7,
     "metadata": {},
     "output_type": "execute_result"
    }
   ],
   "source": [
    "candidate_labels = ['pets', 'drugs', 'automotive', 'pharmacy']\n",
    "classifier(' '.join(tokens['megaketaminestore.com']), candidate_labels)"
   ]
  },
  {
   "cell_type": "code",
   "execution_count": 6,
   "metadata": {},
   "outputs": [
    {
     "data": {
      "application/vnd.jupyter.widget-view+json": {
       "model_id": "ad88114eba4c4ad0959840618c1848e2",
       "version_major": 2,
       "version_minor": 0
      },
      "text/plain": [
       "  0%|          | 0/26 [00:00<?, ?it/s]"
      ]
     },
     "metadata": {},
     "output_type": "display_data"
    }
   ],
   "source": [
    "candidate_labels = ['pets', 'drugs', 'automotive', 'pharmacy']\n",
    "result = {'drugs': [], 'pharmacy': [], 'automotive': [], 'pets': []}\n",
    "\n",
    "for key, val in tqdm(tokens.items()):\n",
    "    res = classifier(' '.join(val), candidate_labels)\n",
    "    result[res[\"labels\"][0]].append(key)\n"
   ]
  },
  {
   "cell_type": "code",
   "execution_count": 7,
   "metadata": {},
   "outputs": [
    {
     "data": {
      "text/plain": [
       "{'drugs': ['prestigeglobalchem.com',\n",
       "  'CJKETAMINESTORE.NET',\n",
       "  'SKYPHARMACYPILS.COM',\n",
       "  'megaketaminestore.com',\n",
       "  'ketamineforsale.com'],\n",
       " 'pharmacy': ['purechempharma.com',\n",
       "  'jungleboyspacks.com',\n",
       "  'FAITHSTANDARDPHARMACY.COM',\n",
       "  'K2DRUGSTORE.COM',\n",
       "  'STRANDNORDBV.COM',\n",
       "  'MORRISAPOTEK.COM',\n",
       "  'percocetpills.com',\n",
       "  'DROMEDARYVILLE.COM'],\n",
       " 'automotive': ['tomh.uk', 'vland-official.com'],\n",
       " 'pets': ['omaghenshihtzuhome.com',\n",
       "  'southhilltoppuppies.com',\n",
       "  'johnbellteacupmaltese.com',\n",
       "  'monarchbulldogs-sa.com',\n",
       "  'premiumdachshundpups.com',\n",
       "  'shihtzupuppiesforsale-us.com',\n",
       "  'pelluciddalmatianpuppieshome.com',\n",
       "  'ROYALSITEYORKSHIRETERRIERPUPPIES.COM',\n",
       "  'PUPPYSTASHKENNELAU.COM',\n",
       "  'cutestdoodleskennel.com',\n",
       "  'bradsmaltipoos.com']}"
      ]
     },
     "execution_count": 7,
     "metadata": {},
     "output_type": "execute_result"
    }
   ],
   "source": [
    "result"
   ]
  },
  {
   "cell_type": "code",
   "execution_count": 145,
   "metadata": {},
   "outputs": [],
   "source": [
    "#0=pharmacy, 1=ketamine, 2=cannabis, 3=cars, 4=other \n",
    "y = [0, 1, 0, 4, 2, 0, 2, 3, 1, 1, 0]"
   ]
  },
  {
   "cell_type": "code",
   "execution_count": 146,
   "metadata": {},
   "outputs": [
    {
     "data": {
      "text/plain": [
       "{'prestigeglobalchem.com': 36.5,\n",
       " 'omaghenshihtzuhome.com': 16.88,\n",
       " 'southhilltoppuppies.com': 16.88,\n",
       " 'johnbellteacupmaltese.com': 12.0,\n",
       " 'CJKETAMINESTORE.NET': 55.0,\n",
       " 'purechempharma.com': 24.0,\n",
       " 'tomh.uk': 18.0,\n",
       " 'monarchbulldogs-sa.com': 16.88,\n",
       " 'jungleboyspacks.com': 16.88,\n",
       " 'FAITHSTANDARDPHARMACY.COM': 12.0,\n",
       " 'premiumdachshundpups.com': 12.0,\n",
       " 'K2DRUGSTORE.COM': 18.0,\n",
       " 'STRANDNORDBV.COM': 12.0,\n",
       " 'SKYPHARMACYPILS.COM': 12.0,\n",
       " 'vland-official.com': 123.66875982284546,\n",
       " 'megaketaminestore.com': 24.0,\n",
       " 'ketamineforsale.com': 28.88,\n",
       " 'shihtzupuppiesforsale-us.com': 16.88,\n",
       " 'MORRISAPOTEK.COM': 12.0,\n",
       " 'percocetpills.com': 24.0,\n",
       " 'pelluciddalmatianpuppieshome.com': 16.88,\n",
       " 'DROMEDARYVILLE.COM': 25.0,\n",
       " 'ROYALSITEYORKSHIRETERRIERPUPPIES.COM': 12.0,\n",
       " 'PUPPYSTASHKENNELAU.COM': 12.0,\n",
       " 'cutestdoodleskennel.com': 16.88,\n",
       " 'bradsmaltipoos.com': 12.0}"
      ]
     },
     "execution_count": 146,
     "metadata": {},
     "output_type": "execute_result"
    }
   ],
   "source": [
    "costs"
   ]
  },
  {
   "cell_type": "markdown",
   "metadata": {},
   "source": [
    "# TFIDF Vectorizing"
   ]
  },
  {
   "cell_type": "code",
   "execution_count": 438,
   "metadata": {},
   "outputs": [
    {
     "name": "stderr",
     "output_type": "stream",
     "text": [
      "/opt/homebrew/anaconda3/lib/python3.8/site-packages/sklearn/feature_extraction/text.py:388: UserWarning: Your stop_words may be inconsistent with your preprocessing. Tokenizing the stop words generated tokens ['b', 'c', 'd', 'e', 'f', 'g', 'h', 'k', 'l', 'm', 'n', 'o', 'p', 'r', 's', 't', 'u', 'v', 'w', 'x', 'y'] not in stop_words.\n",
      "  warnings.warn('Your stop_words may be inconsistent with '\n"
     ]
    }
   ],
   "source": [
    "#Would use lambda for this but TfidfVectorizer is weird about lambdas\n",
    "def identity(token):\n",
    "    return token\n",
    "\n",
    "tfidf = TfidfVectorizer(max_df=0.45, min_df=1, stop_words='english', use_idf=True, tokenizer=identity, preprocessor=identity, token_pattern=None)\n",
    "\n",
    "tfidf_matrix = tfidf.fit_transform(list(tokens.values()))"
   ]
  },
  {
   "cell_type": "code",
   "execution_count": 439,
   "metadata": {},
   "outputs": [
    {
     "data": {
      "text/plain": [
       "{'avail',\n",
       " 'best',\n",
       " 'buy',\n",
       " 'cart',\n",
       " 'contact',\n",
       " 'content',\n",
       " 'copyright',\n",
       " 'custom',\n",
       " 'day',\n",
       " 'deliveri',\n",
       " 'email',\n",
       " 'experi',\n",
       " 'guarante',\n",
       " 'home',\n",
       " 'need',\n",
       " 'offer',\n",
       " 'onlin',\n",
       " 'peopl',\n",
       " 'polici',\n",
       " 'product',\n",
       " 'qualiti',\n",
       " 'quick',\n",
       " 'right',\n",
       " 'sale',\n",
       " 'search',\n",
       " 'servic',\n",
       " 'ship',\n",
       " 'skip',\n",
       " 'work',\n",
       " 'year'}"
      ]
     },
     "execution_count": 439,
     "metadata": {},
     "output_type": "execute_result"
    }
   ],
   "source": [
    "tfidf.stop_words_"
   ]
  },
  {
   "cell_type": "code",
   "execution_count": 410,
   "metadata": {},
   "outputs": [
    {
     "data": {
      "text/html": [
       "<div>\n",
       "<style scoped>\n",
       "    .dataframe tbody tr th:only-of-type {\n",
       "        vertical-align: middle;\n",
       "    }\n",
       "\n",
       "    .dataframe tbody tr th {\n",
       "        vertical-align: top;\n",
       "    }\n",
       "\n",
       "    .dataframe thead th {\n",
       "        text-align: right;\n",
       "    }\n",
       "</style>\n",
       "<table border=\"1\" class=\"dataframe\">\n",
       "  <thead>\n",
       "    <tr style=\"text-align: right;\">\n",
       "      <th></th>\n",
       "      <th>Domain</th>\n",
       "      <th>ketamin</th>\n",
       "      <th>marijuana</th>\n",
       "      <th>xanax</th>\n",
       "    </tr>\n",
       "  </thead>\n",
       "  <tbody>\n",
       "    <tr>\n",
       "      <th>0</th>\n",
       "      <td>prestigeglobalchem.com</td>\n",
       "      <td>0.167181</td>\n",
       "      <td>0.000000</td>\n",
       "      <td>0.000000</td>\n",
       "    </tr>\n",
       "    <tr>\n",
       "      <th>1</th>\n",
       "      <td>omaghenshihtzuhome.com</td>\n",
       "      <td>0.000000</td>\n",
       "      <td>0.000000</td>\n",
       "      <td>0.000000</td>\n",
       "    </tr>\n",
       "    <tr>\n",
       "      <th>2</th>\n",
       "      <td>southhilltoppuppies.com</td>\n",
       "      <td>0.000000</td>\n",
       "      <td>0.000000</td>\n",
       "      <td>0.000000</td>\n",
       "    </tr>\n",
       "    <tr>\n",
       "      <th>3</th>\n",
       "      <td>johnbellteacupmaltese.com</td>\n",
       "      <td>0.000000</td>\n",
       "      <td>0.000000</td>\n",
       "      <td>0.000000</td>\n",
       "    </tr>\n",
       "    <tr>\n",
       "      <th>4</th>\n",
       "      <td>CJKETAMINESTORE.NET</td>\n",
       "      <td>0.779589</td>\n",
       "      <td>0.000000</td>\n",
       "      <td>0.027449</td>\n",
       "    </tr>\n",
       "    <tr>\n",
       "      <th>5</th>\n",
       "      <td>purechempharma.com</td>\n",
       "      <td>0.103727</td>\n",
       "      <td>0.000000</td>\n",
       "      <td>0.060261</td>\n",
       "    </tr>\n",
       "    <tr>\n",
       "      <th>6</th>\n",
       "      <td>tomh.uk</td>\n",
       "      <td>0.000000</td>\n",
       "      <td>0.000000</td>\n",
       "      <td>0.000000</td>\n",
       "    </tr>\n",
       "    <tr>\n",
       "      <th>7</th>\n",
       "      <td>monarchbulldogs-sa.com</td>\n",
       "      <td>0.000000</td>\n",
       "      <td>0.000000</td>\n",
       "      <td>0.000000</td>\n",
       "    </tr>\n",
       "    <tr>\n",
       "      <th>8</th>\n",
       "      <td>jungleboyspacks.com</td>\n",
       "      <td>0.000000</td>\n",
       "      <td>0.651054</td>\n",
       "      <td>0.094796</td>\n",
       "    </tr>\n",
       "    <tr>\n",
       "      <th>9</th>\n",
       "      <td>FAITHSTANDARDPHARMACY.COM</td>\n",
       "      <td>0.000000</td>\n",
       "      <td>0.000000</td>\n",
       "      <td>0.000000</td>\n",
       "    </tr>\n",
       "    <tr>\n",
       "      <th>10</th>\n",
       "      <td>premiumdachshundpups.com</td>\n",
       "      <td>0.000000</td>\n",
       "      <td>0.000000</td>\n",
       "      <td>0.000000</td>\n",
       "    </tr>\n",
       "    <tr>\n",
       "      <th>11</th>\n",
       "      <td>K2DRUGSTORE.COM</td>\n",
       "      <td>0.000000</td>\n",
       "      <td>0.034175</td>\n",
       "      <td>0.000000</td>\n",
       "    </tr>\n",
       "    <tr>\n",
       "      <th>12</th>\n",
       "      <td>STRANDNORDBV.COM</td>\n",
       "      <td>0.000000</td>\n",
       "      <td>0.000000</td>\n",
       "      <td>0.000000</td>\n",
       "    </tr>\n",
       "    <tr>\n",
       "      <th>13</th>\n",
       "      <td>SKYPHARMACYPILS.COM</td>\n",
       "      <td>0.000000</td>\n",
       "      <td>0.000000</td>\n",
       "      <td>0.000000</td>\n",
       "    </tr>\n",
       "    <tr>\n",
       "      <th>14</th>\n",
       "      <td>vland-official.com</td>\n",
       "      <td>0.000000</td>\n",
       "      <td>0.000000</td>\n",
       "      <td>0.000000</td>\n",
       "    </tr>\n",
       "    <tr>\n",
       "      <th>15</th>\n",
       "      <td>megaketaminestore.com</td>\n",
       "      <td>0.964961</td>\n",
       "      <td>0.000000</td>\n",
       "      <td>0.000000</td>\n",
       "    </tr>\n",
       "    <tr>\n",
       "      <th>16</th>\n",
       "      <td>ketamineforsale.com</td>\n",
       "      <td>0.867189</td>\n",
       "      <td>0.000000</td>\n",
       "      <td>0.000000</td>\n",
       "    </tr>\n",
       "    <tr>\n",
       "      <th>17</th>\n",
       "      <td>shihtzupuppiesforsale-us.com</td>\n",
       "      <td>0.000000</td>\n",
       "      <td>0.000000</td>\n",
       "      <td>0.000000</td>\n",
       "    </tr>\n",
       "    <tr>\n",
       "      <th>18</th>\n",
       "      <td>MORRISAPOTEK.COM</td>\n",
       "      <td>0.000000</td>\n",
       "      <td>0.000000</td>\n",
       "      <td>0.000000</td>\n",
       "    </tr>\n",
       "    <tr>\n",
       "      <th>19</th>\n",
       "      <td>percocetpills.com</td>\n",
       "      <td>0.000000</td>\n",
       "      <td>0.000000</td>\n",
       "      <td>0.000000</td>\n",
       "    </tr>\n",
       "    <tr>\n",
       "      <th>20</th>\n",
       "      <td>pelluciddalmatianpuppieshome.com</td>\n",
       "      <td>0.000000</td>\n",
       "      <td>0.000000</td>\n",
       "      <td>0.000000</td>\n",
       "    </tr>\n",
       "    <tr>\n",
       "      <th>21</th>\n",
       "      <td>DROMEDARYVILLE.COM</td>\n",
       "      <td>0.000000</td>\n",
       "      <td>0.000000</td>\n",
       "      <td>0.000000</td>\n",
       "    </tr>\n",
       "    <tr>\n",
       "      <th>22</th>\n",
       "      <td>ROYALSITEYORKSHIRETERRIERPUPPIES.COM</td>\n",
       "      <td>0.000000</td>\n",
       "      <td>0.000000</td>\n",
       "      <td>0.000000</td>\n",
       "    </tr>\n",
       "    <tr>\n",
       "      <th>23</th>\n",
       "      <td>PUPPYSTASHKENNELAU.COM</td>\n",
       "      <td>0.000000</td>\n",
       "      <td>0.000000</td>\n",
       "      <td>0.000000</td>\n",
       "    </tr>\n",
       "    <tr>\n",
       "      <th>24</th>\n",
       "      <td>cutestdoodleskennel.com</td>\n",
       "      <td>0.000000</td>\n",
       "      <td>0.000000</td>\n",
       "      <td>0.000000</td>\n",
       "    </tr>\n",
       "    <tr>\n",
       "      <th>25</th>\n",
       "      <td>bradsmaltipoos.com</td>\n",
       "      <td>0.000000</td>\n",
       "      <td>0.000000</td>\n",
       "      <td>0.000000</td>\n",
       "    </tr>\n",
       "  </tbody>\n",
       "</table>\n",
       "</div>"
      ],
      "text/plain": [
       "                                  Domain   ketamin  marijuana     xanax\n",
       "0                 prestigeglobalchem.com  0.167181   0.000000  0.000000\n",
       "1                 omaghenshihtzuhome.com  0.000000   0.000000  0.000000\n",
       "2                southhilltoppuppies.com  0.000000   0.000000  0.000000\n",
       "3              johnbellteacupmaltese.com  0.000000   0.000000  0.000000\n",
       "4                    CJKETAMINESTORE.NET  0.779589   0.000000  0.027449\n",
       "5                     purechempharma.com  0.103727   0.000000  0.060261\n",
       "6                                tomh.uk  0.000000   0.000000  0.000000\n",
       "7                 monarchbulldogs-sa.com  0.000000   0.000000  0.000000\n",
       "8                    jungleboyspacks.com  0.000000   0.651054  0.094796\n",
       "9              FAITHSTANDARDPHARMACY.COM  0.000000   0.000000  0.000000\n",
       "10              premiumdachshundpups.com  0.000000   0.000000  0.000000\n",
       "11                       K2DRUGSTORE.COM  0.000000   0.034175  0.000000\n",
       "12                      STRANDNORDBV.COM  0.000000   0.000000  0.000000\n",
       "13                   SKYPHARMACYPILS.COM  0.000000   0.000000  0.000000\n",
       "14                    vland-official.com  0.000000   0.000000  0.000000\n",
       "15                 megaketaminestore.com  0.964961   0.000000  0.000000\n",
       "16                   ketamineforsale.com  0.867189   0.000000  0.000000\n",
       "17          shihtzupuppiesforsale-us.com  0.000000   0.000000  0.000000\n",
       "18                      MORRISAPOTEK.COM  0.000000   0.000000  0.000000\n",
       "19                     percocetpills.com  0.000000   0.000000  0.000000\n",
       "20      pelluciddalmatianpuppieshome.com  0.000000   0.000000  0.000000\n",
       "21                    DROMEDARYVILLE.COM  0.000000   0.000000  0.000000\n",
       "22  ROYALSITEYORKSHIRETERRIERPUPPIES.COM  0.000000   0.000000  0.000000\n",
       "23                PUPPYSTASHKENNELAU.COM  0.000000   0.000000  0.000000\n",
       "24               cutestdoodleskennel.com  0.000000   0.000000  0.000000\n",
       "25                    bradsmaltipoos.com  0.000000   0.000000  0.000000"
      ]
     },
     "execution_count": 410,
     "metadata": {},
     "output_type": "execute_result"
    }
   ],
   "source": [
    "tfidf_data = pd.concat([pd.DataFrame(tokens.keys(), columns=[\"Domain\"]), pd.DataFrame(tfidf_matrix.toarray(), columns=tfidf.get_feature_names())],axis=1)\n",
    "tfidf_data[[\"Domain\", \"ketamin\", \"marijuana\", \"xanax\"]]"
   ]
  },
  {
   "cell_type": "markdown",
   "metadata": {},
   "source": [
    "# KMeans"
   ]
  },
  {
   "cell_type": "markdown",
   "metadata": {},
   "source": [
    "## Silhouette"
   ]
  },
  {
   "cell_type": "code",
   "execution_count": 232,
   "metadata": {},
   "outputs": [],
   "source": [
    "s = []\n",
    "sse = []\n",
    "k_max = 10\n",
    "\n",
    "for k in range(2, k_max):\n",
    "    kmeans = KMeans(random_state=4, n_clusters=k, n_init=100)\n",
    "    kmeans.fit(tfidf_matrix)\n",
    "    \n",
    "    s.append(silhouette_score(tfidf_matrix, kmeans.labels_, metric=\"euclidean\"))\n",
    "    sse.append(kmeans.inertia_)"
   ]
  },
  {
   "cell_type": "code",
   "execution_count": 256,
   "metadata": {},
   "outputs": [
    {
     "name": "stdout",
     "output_type": "stream",
     "text": [
      "9\n",
      "[0.5424985963845046, -0.0920751020491295, 0.09667950792029245, -0.05889683959028247, 0.15469865821849638, -0.1767084245839463]\n",
      "1\n"
     ]
    }
   ],
   "source": [
    "best_k = s.index(max(s)) + 2\n",
    "print(best_k)\n",
    "\n",
    "secondDerivative = [sse[i+1] + sse[i-1] - 2 * sse[i] for i in range(1, len(sse) - 1)]\n",
    "print(secondDerivative)\n",
    "print(secondDerivative.index(max(secondDerivative)) + 1)"
   ]
  },
  {
   "cell_type": "code",
   "execution_count": 259,
   "metadata": {},
   "outputs": [
    {
     "data": {
      "text/plain": [
       "Text(0, 0.5, 'SSE')"
      ]
     },
     "execution_count": 259,
     "metadata": {},
     "output_type": "execute_result"
    },
    {
     "data": {
      "image/png": "[encoded data removed]",
      "text/plain": [
       "<Figure size 1440x576 with 2 Axes>"
      ]
     },
     "metadata": {
      "needs_background": "light"
     },
     "output_type": "display_data"
    }
   ],
   "source": [
    "fig, ax = plt.subplots(1, 2, figsize=(20, 8))\n",
    "\n",
    "plt.grid()\n",
    "ax[0].plot(list(range(2, k_max)), s)\n",
    "ax[0].set_xlabel(\"k\")\n",
    "ax[0].set_ylabel(\"Silhouette Score\")\n",
    "\n",
    "ax[1].plot(list(range(2, k_max)), sse)\n",
    "ax[0].set_xlabel(\"k\")\n",
    "ax[0].set_ylabel(\"SSE\")"
   ]
  },
  {
   "cell_type": "code",
   "execution_count": 235,
   "metadata": {},
   "outputs": [],
   "source": [
    "kmeans = KMeans(random_state=1, n_clusters=4)\n",
    "\n",
    "kmeans.fit(tfidf_matrix)\n",
    "\n",
    "clusters = kmeans.labels_.tolist()"
   ]
  },
  {
   "cell_type": "code",
   "execution_count": 236,
   "metadata": {},
   "outputs": [],
   "source": [
    "domains = {'domain': tokens.keys(), 'cluster': clusters, 'total_spent': list(costs.values())}\n",
    "\n",
    "df = pd.DataFrame(domains, index=[clusters], columns=['domain', 'cluster', 'total_spent'])"
   ]
  },
  {
   "cell_type": "code",
   "execution_count": 237,
   "metadata": {},
   "outputs": [
    {
     "data": {
      "text/plain": [
       "0    10\n",
       "2     7\n",
       "1     5\n",
       "3     4\n",
       "Name: cluster, dtype: int64"
      ]
     },
     "execution_count": 237,
     "metadata": {},
     "output_type": "execute_result"
    }
   ],
   "source": [
    "df['cluster'].value_counts()"
   ]
  },
  {
   "cell_type": "code",
   "execution_count": 238,
   "metadata": {},
   "outputs": [
    {
     "data": {
      "text/html": [
       "<div>\n",
       "<style scoped>\n",
       "    .dataframe tbody tr th:only-of-type {\n",
       "        vertical-align: middle;\n",
       "    }\n",
       "\n",
       "    .dataframe tbody tr th {\n",
       "        vertical-align: top;\n",
       "    }\n",
       "\n",
       "    .dataframe thead th {\n",
       "        text-align: right;\n",
       "    }\n",
       "</style>\n",
       "<table border=\"1\" class=\"dataframe\">\n",
       "  <thead>\n",
       "    <tr style=\"text-align: right;\">\n",
       "      <th></th>\n",
       "      <th>domain</th>\n",
       "      <th>cluster</th>\n",
       "      <th>total_spent</th>\n",
       "    </tr>\n",
       "  </thead>\n",
       "  <tbody>\n",
       "    <tr>\n",
       "      <th>0</th>\n",
       "      <td>prestigeglobalchem.com</td>\n",
       "      <td>0</td>\n",
       "      <td>36.50000</td>\n",
       "    </tr>\n",
       "    <tr>\n",
       "      <th>1</th>\n",
       "      <td>omaghenshihtzuhome.com</td>\n",
       "      <td>1</td>\n",
       "      <td>16.88000</td>\n",
       "    </tr>\n",
       "    <tr>\n",
       "      <th>2</th>\n",
       "      <td>southhilltoppuppies.com</td>\n",
       "      <td>2</td>\n",
       "      <td>16.88000</td>\n",
       "    </tr>\n",
       "    <tr>\n",
       "      <th>2</th>\n",
       "      <td>johnbellteacupmaltese.com</td>\n",
       "      <td>2</td>\n",
       "      <td>12.00000</td>\n",
       "    </tr>\n",
       "    <tr>\n",
       "      <th>3</th>\n",
       "      <td>CJKETAMINESTORE.NET</td>\n",
       "      <td>3</td>\n",
       "      <td>55.00000</td>\n",
       "    </tr>\n",
       "    <tr>\n",
       "      <th>0</th>\n",
       "      <td>purechempharma.com</td>\n",
       "      <td>0</td>\n",
       "      <td>24.00000</td>\n",
       "    </tr>\n",
       "    <tr>\n",
       "      <th>1</th>\n",
       "      <td>tomh.uk</td>\n",
       "      <td>1</td>\n",
       "      <td>18.00000</td>\n",
       "    </tr>\n",
       "    <tr>\n",
       "      <th>1</th>\n",
       "      <td>monarchbulldogs-sa.com</td>\n",
       "      <td>1</td>\n",
       "      <td>16.88000</td>\n",
       "    </tr>\n",
       "    <tr>\n",
       "      <th>0</th>\n",
       "      <td>jungleboyspacks.com</td>\n",
       "      <td>0</td>\n",
       "      <td>16.88000</td>\n",
       "    </tr>\n",
       "    <tr>\n",
       "      <th>0</th>\n",
       "      <td>FAITHSTANDARDPHARMACY.COM</td>\n",
       "      <td>0</td>\n",
       "      <td>12.00000</td>\n",
       "    </tr>\n",
       "    <tr>\n",
       "      <th>1</th>\n",
       "      <td>premiumdachshundpups.com</td>\n",
       "      <td>1</td>\n",
       "      <td>12.00000</td>\n",
       "    </tr>\n",
       "    <tr>\n",
       "      <th>3</th>\n",
       "      <td>K2DRUGSTORE.COM</td>\n",
       "      <td>3</td>\n",
       "      <td>18.00000</td>\n",
       "    </tr>\n",
       "    <tr>\n",
       "      <th>0</th>\n",
       "      <td>STRANDNORDBV.COM</td>\n",
       "      <td>0</td>\n",
       "      <td>12.00000</td>\n",
       "    </tr>\n",
       "    <tr>\n",
       "      <th>0</th>\n",
       "      <td>SKYPHARMACYPILS.COM</td>\n",
       "      <td>0</td>\n",
       "      <td>12.00000</td>\n",
       "    </tr>\n",
       "    <tr>\n",
       "      <th>0</th>\n",
       "      <td>vland-official.com</td>\n",
       "      <td>0</td>\n",
       "      <td>123.66876</td>\n",
       "    </tr>\n",
       "    <tr>\n",
       "      <th>3</th>\n",
       "      <td>megaketaminestore.com</td>\n",
       "      <td>3</td>\n",
       "      <td>24.00000</td>\n",
       "    </tr>\n",
       "    <tr>\n",
       "      <th>3</th>\n",
       "      <td>ketamineforsale.com</td>\n",
       "      <td>3</td>\n",
       "      <td>28.88000</td>\n",
       "    </tr>\n",
       "    <tr>\n",
       "      <th>1</th>\n",
       "      <td>shihtzupuppiesforsale-us.com</td>\n",
       "      <td>1</td>\n",
       "      <td>16.88000</td>\n",
       "    </tr>\n",
       "    <tr>\n",
       "      <th>0</th>\n",
       "      <td>MORRISAPOTEK.COM</td>\n",
       "      <td>0</td>\n",
       "      <td>12.00000</td>\n",
       "    </tr>\n",
       "    <tr>\n",
       "      <th>0</th>\n",
       "      <td>percocetpills.com</td>\n",
       "      <td>0</td>\n",
       "      <td>24.00000</td>\n",
       "    </tr>\n",
       "    <tr>\n",
       "      <th>2</th>\n",
       "      <td>pelluciddalmatianpuppieshome.com</td>\n",
       "      <td>2</td>\n",
       "      <td>16.88000</td>\n",
       "    </tr>\n",
       "    <tr>\n",
       "      <th>0</th>\n",
       "      <td>DROMEDARYVILLE.COM</td>\n",
       "      <td>0</td>\n",
       "      <td>25.00000</td>\n",
       "    </tr>\n",
       "    <tr>\n",
       "      <th>2</th>\n",
       "      <td>ROYALSITEYORKSHIRETERRIERPUPPIES.COM</td>\n",
       "      <td>2</td>\n",
       "      <td>12.00000</td>\n",
       "    </tr>\n",
       "    <tr>\n",
       "      <th>2</th>\n",
       "      <td>PUPPYSTASHKENNELAU.COM</td>\n",
       "      <td>2</td>\n",
       "      <td>12.00000</td>\n",
       "    </tr>\n",
       "    <tr>\n",
       "      <th>2</th>\n",
       "      <td>cutestdoodleskennel.com</td>\n",
       "      <td>2</td>\n",
       "      <td>16.88000</td>\n",
       "    </tr>\n",
       "    <tr>\n",
       "      <th>2</th>\n",
       "      <td>bradsmaltipoos.com</td>\n",
       "      <td>2</td>\n",
       "      <td>12.00000</td>\n",
       "    </tr>\n",
       "  </tbody>\n",
       "</table>\n",
       "</div>"
      ],
      "text/plain": [
       "                                 domain  cluster  total_spent\n",
       "0                prestigeglobalchem.com        0     36.50000\n",
       "1                omaghenshihtzuhome.com        1     16.88000\n",
       "2               southhilltoppuppies.com        2     16.88000\n",
       "2             johnbellteacupmaltese.com        2     12.00000\n",
       "3                   CJKETAMINESTORE.NET        3     55.00000\n",
       "0                    purechempharma.com        0     24.00000\n",
       "1                               tomh.uk        1     18.00000\n",
       "1                monarchbulldogs-sa.com        1     16.88000\n",
       "0                   jungleboyspacks.com        0     16.88000\n",
       "0             FAITHSTANDARDPHARMACY.COM        0     12.00000\n",
       "1              premiumdachshundpups.com        1     12.00000\n",
       "3                       K2DRUGSTORE.COM        3     18.00000\n",
       "0                      STRANDNORDBV.COM        0     12.00000\n",
       "0                   SKYPHARMACYPILS.COM        0     12.00000\n",
       "0                    vland-official.com        0    123.66876\n",
       "3                 megaketaminestore.com        3     24.00000\n",
       "3                   ketamineforsale.com        3     28.88000\n",
       "1          shihtzupuppiesforsale-us.com        1     16.88000\n",
       "0                      MORRISAPOTEK.COM        0     12.00000\n",
       "0                     percocetpills.com        0     24.00000\n",
       "2      pelluciddalmatianpuppieshome.com        2     16.88000\n",
       "0                    DROMEDARYVILLE.COM        0     25.00000\n",
       "2  ROYALSITEYORKSHIRETERRIERPUPPIES.COM        2     12.00000\n",
       "2                PUPPYSTASHKENNELAU.COM        2     12.00000\n",
       "2               cutestdoodleskennel.com        2     16.88000\n",
       "2                    bradsmaltipoos.com        2     12.00000"
      ]
     },
     "execution_count": 238,
     "metadata": {},
     "output_type": "execute_result"
    }
   ],
   "source": [
    "df"
   ]
  },
  {
   "cell_type": "code",
   "execution_count": 239,
   "metadata": {},
   "outputs": [
    {
     "data": {
      "text/plain": [
       "cluster\n",
       "0    29.804876\n",
       "1    16.128000\n",
       "2    14.091429\n",
       "3    31.470000\n",
       "Name: total_spent, dtype: float64"
      ]
     },
     "execution_count": 239,
     "metadata": {},
     "output_type": "execute_result"
    }
   ],
   "source": [
    "grouped_total_spent = df['total_spent'].groupby(df['cluster'])\n",
    "\n",
    "grouped_total_spent.mean()"
   ]
  },
  {
   "cell_type": "code",
   "execution_count": 240,
   "metadata": {},
   "outputs": [],
   "source": [
    "grouped_df = df.groupby('cluster')"
   ]
  },
  {
   "cell_type": "code",
   "execution_count": 241,
   "metadata": {},
   "outputs": [
    {
     "name": "stdout",
     "output_type": "stream",
     "text": [
      "                      domain  cluster  total_spent\n",
      "0     prestigeglobalchem.com        0     36.50000\n",
      "0         purechempharma.com        0     24.00000\n",
      "0        jungleboyspacks.com        0     16.88000\n",
      "0  FAITHSTANDARDPHARMACY.COM        0     12.00000\n",
      "0           STRANDNORDBV.COM        0     12.00000\n",
      "0        SKYPHARMACYPILS.COM        0     12.00000\n",
      "0         vland-official.com        0    123.66876\n",
      "0           MORRISAPOTEK.COM        0     12.00000\n",
      "0          percocetpills.com        0     24.00000\n",
      "0         DROMEDARYVILLE.COM        0     25.00000 \n",
      "\n",
      "\n",
      "                         domain  cluster  total_spent\n",
      "1        omaghenshihtzuhome.com        1        16.88\n",
      "1                       tomh.uk        1        18.00\n",
      "1        monarchbulldogs-sa.com        1        16.88\n",
      "1      premiumdachshundpups.com        1        12.00\n",
      "1  shihtzupuppiesforsale-us.com        1        16.88 \n",
      "\n",
      "\n",
      "                                 domain  cluster  total_spent\n",
      "2               southhilltoppuppies.com        2        16.88\n",
      "2             johnbellteacupmaltese.com        2        12.00\n",
      "2      pelluciddalmatianpuppieshome.com        2        16.88\n",
      "2  ROYALSITEYORKSHIRETERRIERPUPPIES.COM        2        12.00\n",
      "2                PUPPYSTASHKENNELAU.COM        2        12.00\n",
      "2               cutestdoodleskennel.com        2        16.88\n",
      "2                    bradsmaltipoos.com        2        12.00 \n",
      "\n",
      "\n",
      "                  domain  cluster  total_spent\n",
      "3    CJKETAMINESTORE.NET        3        55.00\n",
      "3        K2DRUGSTORE.COM        3        18.00\n",
      "3  megaketaminestore.com        3        24.00\n",
      "3    ketamineforsale.com        3        28.88 \n",
      "\n",
      "\n"
     ]
    }
   ],
   "source": [
    "for key, item in grouped_df:\n",
    "    print(grouped_df.get_group(key), \"\\n\\n\")"
   ]
  },
  {
   "cell_type": "markdown",
   "metadata": {},
   "source": [
    "# BIRCH"
   ]
  },
  {
   "cell_type": "code",
   "execution_count": 19,
   "metadata": {},
   "outputs": [],
   "source": [
    "from sklearn.cluster import Birch"
   ]
  },
  {
   "cell_type": "code",
   "execution_count": 440,
   "metadata": {},
   "outputs": [
    {
     "data": {
      "text/plain": [
       "5"
      ]
     },
     "execution_count": 440,
     "metadata": {},
     "output_type": "execute_result"
    }
   ],
   "source": [
    "s = []\n",
    "k_max = 10\n",
    "\n",
    "for k in range(2, k_max):\n",
    "    kmeans = Birch(n_clusters=k, threshold=0.45)\n",
    "    kmeans.fit(tfidf_matrix)\n",
    "    \n",
    "    s.append(silhouette_score(tfidf_matrix, kmeans.labels_, metric=\"euclidean\"))\n",
    "    \n",
    "best_k = s.index(max(s)) + 2\n",
    "best_k"
   ]
  },
  {
   "cell_type": "code",
   "execution_count": 441,
   "metadata": {},
   "outputs": [
    {
     "data": {
      "text/plain": [
       "Birch(n_clusters=5, threshold=0.45)"
      ]
     },
     "execution_count": 441,
     "metadata": {},
     "output_type": "execute_result"
    }
   ],
   "source": [
    "brc = Birch(n_clusters=best_k, threshold=0.45)\n",
    "brc.fit(tfidf_matrix)"
   ]
  },
  {
   "cell_type": "code",
   "execution_count": 442,
   "metadata": {},
   "outputs": [],
   "source": [
    "from joblib import dump, load\n",
    "dump(brc, 'brc-clustering.joblib')\n",
    "\n",
    "test = load('brc-clustering.joblib')"
   ]
  },
  {
   "cell_type": "code",
   "execution_count": 443,
   "metadata": {},
   "outputs": [
    {
     "data": {
      "text/html": [
       "<div>\n",
       "<style scoped>\n",
       "    .dataframe tbody tr th:only-of-type {\n",
       "        vertical-align: middle;\n",
       "    }\n",
       "\n",
       "    .dataframe tbody tr th {\n",
       "        vertical-align: top;\n",
       "    }\n",
       "\n",
       "    .dataframe thead th {\n",
       "        text-align: right;\n",
       "    }\n",
       "</style>\n",
       "<table border=\"1\" class=\"dataframe\">\n",
       "  <thead>\n",
       "    <tr style=\"text-align: right;\">\n",
       "      <th></th>\n",
       "      <th>domain</th>\n",
       "      <th>cluster</th>\n",
       "      <th>total_spent</th>\n",
       "      <th>tokens</th>\n",
       "    </tr>\n",
       "  </thead>\n",
       "  <tbody>\n",
       "    <tr>\n",
       "      <th>0</th>\n",
       "      <td>DROMEDARYVILLE.COM</td>\n",
       "      <td>0</td>\n",
       "      <td>25.00000</td>\n",
       "      <td>[home, dromedari, vill, skip, content, dromeda...</td>\n",
       "    </tr>\n",
       "    <tr>\n",
       "      <th>0</th>\n",
       "      <td>tomh.uk</td>\n",
       "      <td>0</td>\n",
       "      <td>18.00000</td>\n",
       "      <td>[home, tom, hainestom, hainesprojectsgithubcom...</td>\n",
       "    </tr>\n",
       "    <tr>\n",
       "      <th>0</th>\n",
       "      <td>monarchbulldogs-sa.com</td>\n",
       "      <td>0</td>\n",
       "      <td>16.88000</td>\n",
       "      <td>[home, monarch, bulldog, sa, email, monarchbul...</td>\n",
       "    </tr>\n",
       "    <tr>\n",
       "      <th>0</th>\n",
       "      <td>percocetpills.com</td>\n",
       "      <td>0</td>\n",
       "      <td>24.00000</td>\n",
       "      <td>[percocet, pain, pill, sale, buy, blue, percoc...</td>\n",
       "    </tr>\n",
       "    <tr>\n",
       "      <th>0</th>\n",
       "      <td>MORRISAPOTEK.COM</td>\n",
       "      <td>0</td>\n",
       "      <td>12.00000</td>\n",
       "      <td>[köp, droger, onlin, onlin, apotek, doc, morri...</td>\n",
       "    </tr>\n",
       "    <tr>\n",
       "      <th>0</th>\n",
       "      <td>K2DRUGSTORE.COM</td>\n",
       "      <td>0</td>\n",
       "      <td>18.00000</td>\n",
       "      <td>[home, page, buy, liquid, paper, liquid, sale,...</td>\n",
       "    </tr>\n",
       "    <tr>\n",
       "      <th>0</th>\n",
       "      <td>vland-official.com</td>\n",
       "      <td>0</td>\n",
       "      <td>123.66876</td>\n",
       "      <td>[vland, lead, modifi, perform, car, light, man...</td>\n",
       "    </tr>\n",
       "    <tr>\n",
       "      <th>1</th>\n",
       "      <td>STRANDNORDBV.COM</td>\n",
       "      <td>1</td>\n",
       "      <td>12.00000</td>\n",
       "      <td>[strand, noord, info, email, us, contact, us, ...</td>\n",
       "    </tr>\n",
       "    <tr>\n",
       "      <th>1</th>\n",
       "      <td>jungleboyspacks.com</td>\n",
       "      <td>1</td>\n",
       "      <td>16.88000</td>\n",
       "      <td>[home, st, los, angel, support, request, quot,...</td>\n",
       "    </tr>\n",
       "    <tr>\n",
       "      <th>1</th>\n",
       "      <td>SKYPHARMACYPILS.COM</td>\n",
       "      <td>1</td>\n",
       "      <td>12.00000</td>\n",
       "      <td>[home, sky, pharmaci, pil, product, search, ca...</td>\n",
       "    </tr>\n",
       "    <tr>\n",
       "      <th>2</th>\n",
       "      <td>omaghenshihtzuhome.com</td>\n",
       "      <td>2</td>\n",
       "      <td>16.88000</td>\n",
       "      <td>[https, skip, content, home, avail, puppi, gua...</td>\n",
       "    </tr>\n",
       "    <tr>\n",
       "      <th>2</th>\n",
       "      <td>shihtzupuppiesforsale-us.com</td>\n",
       "      <td>2</td>\n",
       "      <td>16.88000</td>\n",
       "      <td>[blog, wordpress, blog, skip, content, home, a...</td>\n",
       "    </tr>\n",
       "    <tr>\n",
       "      <th>3</th>\n",
       "      <td>PUPPYSTASHKENNELAU.COM</td>\n",
       "      <td>3</td>\n",
       "      <td>12.00000</td>\n",
       "      <td>[puppi, stash, kennel, make, famili, happi, he...</td>\n",
       "    </tr>\n",
       "    <tr>\n",
       "      <th>3</th>\n",
       "      <td>ROYALSITEYORKSHIRETERRIERPUPPIES.COM</td>\n",
       "      <td>3</td>\n",
       "      <td>12.00000</td>\n",
       "      <td>[buy, golden, retriev, labrador, puppi, puppi,...</td>\n",
       "    </tr>\n",
       "    <tr>\n",
       "      <th>3</th>\n",
       "      <td>pelluciddalmatianpuppieshome.com</td>\n",
       "      <td>3</td>\n",
       "      <td>16.88000</td>\n",
       "      <td>[home, pellucid, dalmatian, puppi, home, info,...</td>\n",
       "    </tr>\n",
       "    <tr>\n",
       "      <th>3</th>\n",
       "      <td>bradsmaltipoos.com</td>\n",
       "      <td>3</td>\n",
       "      <td>12.00000</td>\n",
       "      <td>[brad, maltipoo, puppi, flawless, maltipoo, pu...</td>\n",
       "    </tr>\n",
       "    <tr>\n",
       "      <th>3</th>\n",
       "      <td>cutestdoodleskennel.com</td>\n",
       "      <td>3</td>\n",
       "      <td>16.88000</td>\n",
       "      <td>[cutest, doodl, kennel, home, goldendoodl, ski...</td>\n",
       "    </tr>\n",
       "    <tr>\n",
       "      <th>3</th>\n",
       "      <td>premiumdachshundpups.com</td>\n",
       "      <td>3</td>\n",
       "      <td>12.00000</td>\n",
       "      <td>[premium, dachshund, skip, content, premium, d...</td>\n",
       "    </tr>\n",
       "    <tr>\n",
       "      <th>3</th>\n",
       "      <td>johnbellteacupmaltese.com</td>\n",
       "      <td>3</td>\n",
       "      <td>12.00000</td>\n",
       "      <td>[maltes, teacup, puppi, home, buy, teacup, mal...</td>\n",
       "    </tr>\n",
       "    <tr>\n",
       "      <th>3</th>\n",
       "      <td>southhilltoppuppies.com</td>\n",
       "      <td>3</td>\n",
       "      <td>16.88000</td>\n",
       "      <td>[hilltop, puppi, passion, breeder, year, exper...</td>\n",
       "    </tr>\n",
       "    <tr>\n",
       "      <th>4</th>\n",
       "      <td>ketamineforsale.com</td>\n",
       "      <td>4</td>\n",
       "      <td>28.88000</td>\n",
       "      <td>[buy, ketamin, onlin, ketamin, pain, deliv, wo...</td>\n",
       "    </tr>\n",
       "    <tr>\n",
       "      <th>4</th>\n",
       "      <td>FAITHSTANDARDPHARMACY.COM</td>\n",
       "      <td>4</td>\n",
       "      <td>12.00000</td>\n",
       "      <td>[home, faith, standard, pharmaci, ldk, polxsk,...</td>\n",
       "    </tr>\n",
       "    <tr>\n",
       "      <th>4</th>\n",
       "      <td>purechempharma.com</td>\n",
       "      <td>4</td>\n",
       "      <td>24.00000</td>\n",
       "      <td>[pure, chem, pharma, home, research, chemic, o...</td>\n",
       "    </tr>\n",
       "    <tr>\n",
       "      <th>4</th>\n",
       "      <td>CJKETAMINESTORE.NET</td>\n",
       "      <td>4</td>\n",
       "      <td>55.00000</td>\n",
       "      <td>[buy, ketamin, onlin, without, prescript, keta...</td>\n",
       "    </tr>\n",
       "    <tr>\n",
       "      <th>4</th>\n",
       "      <td>megaketaminestore.com</td>\n",
       "      <td>4</td>\n",
       "      <td>24.00000</td>\n",
       "      <td>[home, buy, ketamin, onlin, skip, contentbuy, ...</td>\n",
       "    </tr>\n",
       "    <tr>\n",
       "      <th>4</th>\n",
       "      <td>prestigeglobalchem.com</td>\n",
       "      <td>4</td>\n",
       "      <td>36.50000</td>\n",
       "      <td>[home, prestig, global, chemic, login, regist,...</td>\n",
       "    </tr>\n",
       "  </tbody>\n",
       "</table>\n",
       "</div>"
      ],
      "text/plain": [
       "                                 domain  cluster  total_spent  \\\n",
       "0                    DROMEDARYVILLE.COM        0     25.00000   \n",
       "0                               tomh.uk        0     18.00000   \n",
       "0                monarchbulldogs-sa.com        0     16.88000   \n",
       "0                     percocetpills.com        0     24.00000   \n",
       "0                      MORRISAPOTEK.COM        0     12.00000   \n",
       "0                       K2DRUGSTORE.COM        0     18.00000   \n",
       "0                    vland-official.com        0    123.66876   \n",
       "1                      STRANDNORDBV.COM        1     12.00000   \n",
       "1                   jungleboyspacks.com        1     16.88000   \n",
       "1                   SKYPHARMACYPILS.COM        1     12.00000   \n",
       "2                omaghenshihtzuhome.com        2     16.88000   \n",
       "2          shihtzupuppiesforsale-us.com        2     16.88000   \n",
       "3                PUPPYSTASHKENNELAU.COM        3     12.00000   \n",
       "3  ROYALSITEYORKSHIRETERRIERPUPPIES.COM        3     12.00000   \n",
       "3      pelluciddalmatianpuppieshome.com        3     16.88000   \n",
       "3                    bradsmaltipoos.com        3     12.00000   \n",
       "3               cutestdoodleskennel.com        3     16.88000   \n",
       "3              premiumdachshundpups.com        3     12.00000   \n",
       "3             johnbellteacupmaltese.com        3     12.00000   \n",
       "3               southhilltoppuppies.com        3     16.88000   \n",
       "4                   ketamineforsale.com        4     28.88000   \n",
       "4             FAITHSTANDARDPHARMACY.COM        4     12.00000   \n",
       "4                    purechempharma.com        4     24.00000   \n",
       "4                   CJKETAMINESTORE.NET        4     55.00000   \n",
       "4                 megaketaminestore.com        4     24.00000   \n",
       "4                prestigeglobalchem.com        4     36.50000   \n",
       "\n",
       "                                              tokens  \n",
       "0  [home, dromedari, vill, skip, content, dromeda...  \n",
       "0  [home, tom, hainestom, hainesprojectsgithubcom...  \n",
       "0  [home, monarch, bulldog, sa, email, monarchbul...  \n",
       "0  [percocet, pain, pill, sale, buy, blue, percoc...  \n",
       "0  [köp, droger, onlin, onlin, apotek, doc, morri...  \n",
       "0  [home, page, buy, liquid, paper, liquid, sale,...  \n",
       "0  [vland, lead, modifi, perform, car, light, man...  \n",
       "1  [strand, noord, info, email, us, contact, us, ...  \n",
       "1  [home, st, los, angel, support, request, quot,...  \n",
       "1  [home, sky, pharmaci, pil, product, search, ca...  \n",
       "2  [https, skip, content, home, avail, puppi, gua...  \n",
       "2  [blog, wordpress, blog, skip, content, home, a...  \n",
       "3  [puppi, stash, kennel, make, famili, happi, he...  \n",
       "3  [buy, golden, retriev, labrador, puppi, puppi,...  \n",
       "3  [home, pellucid, dalmatian, puppi, home, info,...  \n",
       "3  [brad, maltipoo, puppi, flawless, maltipoo, pu...  \n",
       "3  [cutest, doodl, kennel, home, goldendoodl, ski...  \n",
       "3  [premium, dachshund, skip, content, premium, d...  \n",
       "3  [maltes, teacup, puppi, home, buy, teacup, mal...  \n",
       "3  [hilltop, puppi, passion, breeder, year, exper...  \n",
       "4  [buy, ketamin, onlin, ketamin, pain, deliv, wo...  \n",
       "4  [home, faith, standard, pharmaci, ldk, polxsk,...  \n",
       "4  [pure, chem, pharma, home, research, chemic, o...  \n",
       "4  [buy, ketamin, onlin, without, prescript, keta...  \n",
       "4  [home, buy, ketamin, onlin, skip, contentbuy, ...  \n",
       "4  [home, prestig, global, chemic, login, regist,...  "
      ]
     },
     "execution_count": 443,
     "metadata": {},
     "output_type": "execute_result"
    }
   ],
   "source": [
    "birch_clusters = brc.labels_.tolist()\n",
    "\n",
    "birch_domains = {'domain': tokens.keys(), 'cluster': birch_clusters, 'total_spent': list(costs.values()), 'tokens': tokens.values()}\n",
    "\n",
    "birch_df = pd.DataFrame(birch_domains, index=[birch_clusters], columns=['domain', 'cluster', 'total_spent', 'tokens'])\n",
    "\n",
    "birch_grouped_df = birch_df.sort_values(by=['cluster'])\n",
    "birch_grouped_df"
   ]
  },
  {
   "cell_type": "code",
   "execution_count": 421,
   "metadata": {},
   "outputs": [],
   "source": [
    "# birch_df.sort_values(by=['cluster'])\n",
    "\n",
    "# for i in range(best_k):\n",
    "#     cluster = birch_df[birch_df['cluster'] == i]\n",
    "#     cluster_tokens = [set(list(cluster.iloc[[i]]['tokens'])[0]) for i in range(1, len(cluster))]\n",
    "#     words = set(list(cluster.iloc[[0]]['tokens'])[0]).intersection(*cluster_tokens)\n",
    "#     print(words)"
   ]
  },
  {
   "cell_type": "code",
   "execution_count": 444,
   "metadata": {},
   "outputs": [
    {
     "name": "stdout",
     "output_type": "stream",
     "text": [
      "Domain: tomh.uk  ['iot', 'accross', 'consult', 'system', 'whole']\n",
      "Domain: monarchbulldogs-sa.com  ['plus', 'deliveri', 'interest', 'eas', 'flight']\n",
      "Domain: K2DRUGSTORE.COM  ['access', 'deliveri', 'especi', 'us', 'defin']\n",
      "Domain: vland-official.com  ['superb', 'twitter', 'pickup', 'mitsubishi', 'close']\n",
      "Domain: MORRISAPOTEK.COM  ['eller', 'mdma', 'helgdagar', 'bästa', 'patient']\n",
      "Domain: percocetpills.com  ['temperatur', 'us', 'weak', 'weight', 'ordr']\n",
      "Domain: DROMEDARYVILLE.COM  ['sport', 'mealtim', 'absorb', 'vetoquinol', 'us']\n",
      "Domain: jungleboyspacks.com  ['boy', 'reseach', 'deliveri', 'pickup', 'us']\n",
      "Domain: STRANDNORDBV.COM  ['quotat', 'close', 'nl', 'grow', 'stadion']\n",
      "Domain: SKYPHARMACYPILS.COM  ['cartoxycodon', 'secur', 'deliveri', 'us', 'wrinkl']\n",
      "Domain: omaghenshihtzuhome.com  ['spoil', 'manner', 'yes', 'nella', 'bark']\n",
      "Domain: shihtzupuppiesforsale-us.com  ['adapt', 'famili', 'interest', 'tall', 'grow']\n",
      "Domain: southhilltoppuppies.com  ['famili', 'interest', 'everywher', 'puppi', 'us']\n",
      "Domain: johnbellteacupmaltese.com  ['say', 'famili', 'deliveri', 'yes', 'respons']\n",
      "Domain: premiumdachshundpups.com  ['mean', 'famili', 'yes', 'respons', 'us']\n",
      "Domain: pelluciddalmatianpuppieshome.com  ['group', 'us', 'pellucid', 'interact', 'bizwheel']\n",
      "Domain: ROYALSITEYORKSHIRETERRIERPUPPIES.COM  ['owner', 'cindi', 'ireland', 'puppi', 'us']\n",
      "Domain: PUPPYSTASHKENNELAU.COM  ['backward', 'eas', 'us', 'peimor', 'made']\n",
      "Domain: cutestdoodleskennel.com  ['sold', 'skip', 'say', 'guarante', 'deliveri']\n",
      "Domain: bradsmaltipoos.com  ['adapt', 'famili', 'deliveri', 'crisi', 'especi']\n",
      "Domain: prestigeglobalchem.com  ['secur', 'deliveri', 'methylon', 'us', 'suggest']\n",
      "Domain: CJKETAMINESTORE.NET  ['prevent', 'secur', 'mean', 'deliveri', 'interest']\n",
      "Domain: purechempharma.com  ['wolf', 'decemb', 'deliveri', 'respons', 'open']\n",
      "Domain: FAITHSTANDARDPHARMACY.COM  ['access', 'secur', 'deliveri', 'relief', 'weight']\n",
      "Domain: megaketaminestore.com  ['contentbuy', 'due', 'respons', 'relief', 'weak']\n",
      "Domain: ketamineforsale.com  ['secur', 'dollar', 'deliveri', 'due', 'bank']\n"
     ]
    }
   ],
   "source": [
    "# tfidf_data\n",
    "candidate_labels = ['pets', 'drugs', 'automotive', 'pharmacy']\n",
    "\n",
    "def get_val(domain, x):\n",
    "    try:\n",
    "        return float(tfidf_data[tfidf_data[\"Domain\"] == domain][x])\n",
    "    except:\n",
    "        return -1\n",
    "\n",
    "for i in range(best_k):\n",
    "    cluster = birch_df[birch_df['cluster'] == i]\n",
    "    for idx, row in cluster.iterrows():\n",
    "        subset_tokens = row[\"tokens\"]\n",
    "        classifier(' '.join(subset_tokens), candidate_labels)\n",
    "#         subset_tokens.sort(key=lambda x: get_val(row[\"domain\"], x), reverse=True)\n",
    "#         print(f\"Domain: {row['domain']}  {list(set(subset_tokens))[0:5]}\")"
   ]
  },
  {
   "cell_type": "code",
   "execution_count": 447,
   "metadata": {},
   "outputs": [
    {
     "ename": "AttributeError",
     "evalue": "module 'nltk' has no attribute 'classifier'",
     "output_type": "error",
     "traceback": [
      "\u001b[0;31m---------------------------------------------------------------------------\u001b[0m",
      "\u001b[0;31mAttributeError\u001b[0m                            Traceback (most recent call last)",
      "\u001b[0;32m<ipython-input-447-b25c93b44949>\u001b[0m in \u001b[0;36m<module>\u001b[0;34m\u001b[0m\n\u001b[1;32m      7\u001b[0m \u001b[0;32mfor\u001b[0m \u001b[0mfileid\u001b[0m \u001b[0;32min\u001b[0m \u001b[0mgutenberg\u001b[0m\u001b[0;34m.\u001b[0m\u001b[0mfileids\u001b[0m\u001b[0;34m(\u001b[0m\u001b[0;34m)\u001b[0m\u001b[0;34m:\u001b[0m\u001b[0;34m\u001b[0m\u001b[0;34m\u001b[0m\u001b[0m\n\u001b[1;32m      8\u001b[0m      \u001b[0mdoc\u001b[0m \u001b[0;34m=\u001b[0m \u001b[0mgutenberg\u001b[0m\u001b[0;34m.\u001b[0m\u001b[0mwords\u001b[0m\u001b[0;34m(\u001b[0m\u001b[0mfileid\u001b[0m\u001b[0;34m)\u001b[0m\u001b[0;34m\u001b[0m\u001b[0;34m\u001b[0m\u001b[0m\n\u001b[0;32m----> 9\u001b[0;31m      \u001b[0mprint\u001b[0m\u001b[0;34m(\u001b[0m\u001b[0mfileid\u001b[0m\u001b[0;34m,\u001b[0m \u001b[0mnltk\u001b[0m\u001b[0;34m.\u001b[0m\u001b[0mclassifier\u001b[0m\u001b[0;34m.\u001b[0m\u001b[0mclassify\u001b[0m\u001b[0;34m(\u001b[0m\u001b[0mdocument_features\u001b[0m\u001b[0;34m(\u001b[0m\u001b[0mdoc\u001b[0m\u001b[0;34m)\u001b[0m\u001b[0;34m)\u001b[0m\u001b[0;34m)\u001b[0m\u001b[0;34m\u001b[0m\u001b[0;34m\u001b[0m\u001b[0m\n\u001b[0m",
      "\u001b[0;31mAttributeError\u001b[0m: module 'nltk' has no attribute 'classifier'"
     ]
    }
   ],
   "source": [
    "def document_features(document):\n",
    "    return dict([('contains-word(%s)' % w, True) for w in document])\n",
    "\n",
    "from nltk.corpus import gutenberg\n",
    "import nltk\n",
    "\n",
    "for fileid in gutenberg.fileids(): \n",
    "     doc = gutenberg.words(fileid) \n",
    "     print(fileid, nltk.classifier.classify(document_features(doc))) "
   ]
  },
  {
   "cell_type": "markdown",
   "metadata": {},
   "source": [
    "# ANN from BIRCH"
   ]
  },
  {
   "cell_type": "code",
   "execution_count": 74,
   "metadata": {},
   "outputs": [
    {
     "data": {
      "text/plain": [
       "array([[0.        , 0.        , 0.        , ..., 0.        , 0.        ,\n",
       "        0.        ],\n",
       "       [0.        , 0.        , 0.        , ..., 0.        , 0.        ,\n",
       "        0.        ],\n",
       "       [0.        , 0.        , 0.        , ..., 0.        , 0.        ,\n",
       "        0.        ],\n",
       "       ...,\n",
       "       [0.        , 0.        , 0.01929042, ..., 0.        , 0.        ,\n",
       "        0.        ],\n",
       "       [0.        , 0.        , 0.        , ..., 0.        , 0.        ,\n",
       "        0.        ],\n",
       "       [0.        , 0.        , 0.        , ..., 0.        , 0.        ,\n",
       "        0.        ]])"
      ]
     },
     "execution_count": 74,
     "metadata": {},
     "output_type": "execute_result"
    }
   ],
   "source": [
    "brc.subcluster_centers_"
   ]
  },
  {
   "cell_type": "code",
   "execution_count": 26,
   "metadata": {},
   "outputs": [],
   "source": [
    "from sklearn.neural_network import MLPClassifier"
   ]
  },
  {
   "cell_type": "code",
   "execution_count": 51,
   "metadata": {},
   "outputs": [
    {
     "data": {
      "text/plain": [
       "'prestigeglobalchem.com'"
      ]
     },
     "execution_count": 51,
     "metadata": {},
     "output_type": "execute_result"
    }
   ],
   "source": [
    "list(tokens.keys())[0]"
   ]
  },
  {
   "cell_type": "code",
   "execution_count": 50,
   "metadata": {},
   "outputs": [
    {
     "name": "stderr",
     "output_type": "stream",
     "text": [
      "/opt/homebrew/anaconda3/lib/python3.8/site-packages/sklearn/feature_extraction/text.py:388: UserWarning: Your stop_words may be inconsistent with your preprocessing. Tokenizing the stop words generated tokens ['b', 'c', 'd', 'e', 'f', 'g', 'h', 'k', 'l', 'm', 'n', 'o', 'p', 'r', 's', 't', 'u', 'v', 'w', 'x', 'y'] not in stop_words.\n",
      "  warnings.warn('Your stop_words may be inconsistent with '\n"
     ]
    },
    {
     "data": {
      "text/plain": [
       "array([3])"
      ]
     },
     "execution_count": 50,
     "metadata": {},
     "output_type": "execute_result"
    }
   ],
   "source": [
    "feature_names = tfidf.get_feature_names()\n",
    "\n",
    "new_tfidf = TfidfVectorizer(max_df=0.8, min_df=1, stop_words='english', tokenizer=identity, preprocessor=identity, token_pattern=None, vocabulary=feature_names)\n",
    "\n",
    "doc = [list(tokens.values())[0]]\n",
    "\n",
    "brc.predict(new_tfidf.fit_transform(doc))"
   ]
  },
  {
   "cell_type": "code",
   "execution_count": 53,
   "metadata": {},
   "outputs": [
    {
     "name": "stderr",
     "output_type": "stream",
     "text": [
      "/opt/homebrew/anaconda3/lib/python3.8/site-packages/sklearn/feature_extraction/text.py:388: UserWarning: Your stop_words may be inconsistent with your preprocessing. Tokenizing the stop words generated tokens ['b', 'c', 'd', 'e', 'f', 'g', 'h', 'k', 'l', 'm', 'n', 'o', 'p', 'r', 's', 't', 'u', 'v', 'w', 'x', 'y'] not in stop_words.\n",
      "  warnings.warn('Your stop_words may be inconsistent with '\n"
     ]
    },
    {
     "data": {
      "text/plain": [
       "array([3])"
      ]
     },
     "execution_count": 53,
     "metadata": {},
     "output_type": "execute_result"
    }
   ],
   "source": [
    "dump(new_tfidf, 'tfidf.joblib')\n",
    "\n",
    "test_tfidf = load('tfidf.joblib')\n",
    "\n",
    "brc.predict(test_tfidf.fit_transform(doc))"
   ]
  },
  {
   "cell_type": "code",
   "execution_count": 27,
   "metadata": {},
   "outputs": [
    {
     "ename": "ValueError",
     "evalue": "setting an array element with a sequence.",
     "output_type": "error",
     "traceback": [
      "\u001b[0;31m---------------------------------------------------------------------------\u001b[0m",
      "\u001b[0;31mTypeError\u001b[0m                                 Traceback (most recent call last)",
      "\u001b[0;31mTypeError\u001b[0m: float() argument must be a string or a number, not 'csr_matrix'",
      "\nThe above exception was the direct cause of the following exception:\n",
      "\u001b[0;31mValueError\u001b[0m                                Traceback (most recent call last)",
      "\u001b[0;32m<ipython-input-27-4eda1b66f397>\u001b[0m in \u001b[0;36m<module>\u001b[0;34m\u001b[0m\n\u001b[1;32m      1\u001b[0m \u001b[0mX\u001b[0m \u001b[0;34m=\u001b[0m \u001b[0;34m[\u001b[0m\u001b[0mtfidf\u001b[0m\u001b[0;34m.\u001b[0m\u001b[0mfit_transform\u001b[0m\u001b[0;34m(\u001b[0m\u001b[0mitem\u001b[0m\u001b[0;34m)\u001b[0m \u001b[0;32mfor\u001b[0m \u001b[0mitem\u001b[0m \u001b[0;32min\u001b[0m \u001b[0mtokens\u001b[0m\u001b[0;34m.\u001b[0m\u001b[0mvalues\u001b[0m\u001b[0;34m(\u001b[0m\u001b[0;34m)\u001b[0m\u001b[0;34m]\u001b[0m\u001b[0;34m\u001b[0m\u001b[0;34m\u001b[0m\u001b[0m\n\u001b[0;32m----> 2\u001b[0;31m \u001b[0mclf\u001b[0m \u001b[0;34m=\u001b[0m \u001b[0mMLPClassifier\u001b[0m\u001b[0;34m(\u001b[0m\u001b[0mrandom_state\u001b[0m\u001b[0;34m=\u001b[0m\u001b[0;36m1\u001b[0m\u001b[0;34m,\u001b[0m \u001b[0mmax_iter\u001b[0m\u001b[0;34m=\u001b[0m\u001b[0;36m300\u001b[0m\u001b[0;34m)\u001b[0m\u001b[0;34m.\u001b[0m\u001b[0mfit\u001b[0m\u001b[0;34m(\u001b[0m\u001b[0mX\u001b[0m\u001b[0;34m,\u001b[0m \u001b[0mbirch_clusters\u001b[0m\u001b[0;34m)\u001b[0m\u001b[0;34m\u001b[0m\u001b[0;34m\u001b[0m\u001b[0m\n\u001b[0m",
      "\u001b[0;32m/opt/homebrew/anaconda3/lib/python3.8/site-packages/sklearn/neural_network/_multilayer_perceptron.py\u001b[0m in \u001b[0;36mfit\u001b[0;34m(self, X, y)\u001b[0m\n\u001b[1;32m    671\u001b[0m         \u001b[0mself\u001b[0m \u001b[0;34m:\u001b[0m \u001b[0mreturns\u001b[0m \u001b[0ma\u001b[0m \u001b[0mtrained\u001b[0m \u001b[0mMLP\u001b[0m \u001b[0mmodel\u001b[0m\u001b[0;34m.\u001b[0m\u001b[0;34m\u001b[0m\u001b[0;34m\u001b[0m\u001b[0m\n\u001b[1;32m    672\u001b[0m         \"\"\"\n\u001b[0;32m--> 673\u001b[0;31m         \u001b[0;32mreturn\u001b[0m \u001b[0mself\u001b[0m\u001b[0;34m.\u001b[0m\u001b[0m_fit\u001b[0m\u001b[0;34m(\u001b[0m\u001b[0mX\u001b[0m\u001b[0;34m,\u001b[0m \u001b[0my\u001b[0m\u001b[0;34m,\u001b[0m \u001b[0mincremental\u001b[0m\u001b[0;34m=\u001b[0m\u001b[0;32mFalse\u001b[0m\u001b[0;34m)\u001b[0m\u001b[0;34m\u001b[0m\u001b[0;34m\u001b[0m\u001b[0m\n\u001b[0m\u001b[1;32m    674\u001b[0m \u001b[0;34m\u001b[0m\u001b[0m\n\u001b[1;32m    675\u001b[0m     \u001b[0;34m@\u001b[0m\u001b[0mproperty\u001b[0m\u001b[0;34m\u001b[0m\u001b[0;34m\u001b[0m\u001b[0m\n",
      "\u001b[0;32m/opt/homebrew/anaconda3/lib/python3.8/site-packages/sklearn/neural_network/_multilayer_perceptron.py\u001b[0m in \u001b[0;36m_fit\u001b[0;34m(self, X, y, incremental)\u001b[0m\n\u001b[1;32m    362\u001b[0m                       (not self.warm_start and not incremental))\n\u001b[1;32m    363\u001b[0m \u001b[0;34m\u001b[0m\u001b[0m\n\u001b[0;32m--> 364\u001b[0;31m         \u001b[0mX\u001b[0m\u001b[0;34m,\u001b[0m \u001b[0my\u001b[0m \u001b[0;34m=\u001b[0m \u001b[0mself\u001b[0m\u001b[0;34m.\u001b[0m\u001b[0m_validate_input\u001b[0m\u001b[0;34m(\u001b[0m\u001b[0mX\u001b[0m\u001b[0;34m,\u001b[0m \u001b[0my\u001b[0m\u001b[0;34m,\u001b[0m \u001b[0mincremental\u001b[0m\u001b[0;34m,\u001b[0m \u001b[0mreset\u001b[0m\u001b[0;34m=\u001b[0m\u001b[0mfirst_pass\u001b[0m\u001b[0;34m)\u001b[0m\u001b[0;34m\u001b[0m\u001b[0;34m\u001b[0m\u001b[0m\n\u001b[0m\u001b[1;32m    365\u001b[0m \u001b[0;34m\u001b[0m\u001b[0m\n\u001b[1;32m    366\u001b[0m         \u001b[0mn_samples\u001b[0m\u001b[0;34m,\u001b[0m \u001b[0mn_features\u001b[0m \u001b[0;34m=\u001b[0m \u001b[0mX\u001b[0m\u001b[0;34m.\u001b[0m\u001b[0mshape\u001b[0m\u001b[0;34m\u001b[0m\u001b[0;34m\u001b[0m\u001b[0m\n",
      "\u001b[0;32m/opt/homebrew/anaconda3/lib/python3.8/site-packages/sklearn/neural_network/_multilayer_perceptron.py\u001b[0m in \u001b[0;36m_validate_input\u001b[0;34m(self, X, y, incremental, reset)\u001b[0m\n\u001b[1;32m    966\u001b[0m \u001b[0;34m\u001b[0m\u001b[0m\n\u001b[1;32m    967\u001b[0m     \u001b[0;32mdef\u001b[0m \u001b[0m_validate_input\u001b[0m\u001b[0;34m(\u001b[0m\u001b[0mself\u001b[0m\u001b[0;34m,\u001b[0m \u001b[0mX\u001b[0m\u001b[0;34m,\u001b[0m \u001b[0my\u001b[0m\u001b[0;34m,\u001b[0m \u001b[0mincremental\u001b[0m\u001b[0;34m,\u001b[0m \u001b[0mreset\u001b[0m\u001b[0;34m)\u001b[0m\u001b[0;34m:\u001b[0m\u001b[0;34m\u001b[0m\u001b[0;34m\u001b[0m\u001b[0m\n\u001b[0;32m--> 968\u001b[0;31m         X, y = self._validate_data(X, y, accept_sparse=['csr', 'csc'],\n\u001b[0m\u001b[1;32m    969\u001b[0m                                    \u001b[0mmulti_output\u001b[0m\u001b[0;34m=\u001b[0m\u001b[0;32mTrue\u001b[0m\u001b[0;34m,\u001b[0m\u001b[0;34m\u001b[0m\u001b[0;34m\u001b[0m\u001b[0m\n\u001b[1;32m    970\u001b[0m                                    \u001b[0mdtype\u001b[0m\u001b[0;34m=\u001b[0m\u001b[0;34m(\u001b[0m\u001b[0mnp\u001b[0m\u001b[0;34m.\u001b[0m\u001b[0mfloat64\u001b[0m\u001b[0;34m,\u001b[0m \u001b[0mnp\u001b[0m\u001b[0;34m.\u001b[0m\u001b[0mfloat32\u001b[0m\u001b[0;34m)\u001b[0m\u001b[0;34m,\u001b[0m\u001b[0;34m\u001b[0m\u001b[0;34m\u001b[0m\u001b[0m\n",
      "\u001b[0;32m/opt/homebrew/anaconda3/lib/python3.8/site-packages/sklearn/base.py\u001b[0m in \u001b[0;36m_validate_data\u001b[0;34m(self, X, y, reset, validate_separately, **check_params)\u001b[0m\n\u001b[1;32m    431\u001b[0m                 \u001b[0my\u001b[0m \u001b[0;34m=\u001b[0m \u001b[0mcheck_array\u001b[0m\u001b[0;34m(\u001b[0m\u001b[0my\u001b[0m\u001b[0;34m,\u001b[0m \u001b[0;34m**\u001b[0m\u001b[0mcheck_y_params\u001b[0m\u001b[0;34m)\u001b[0m\u001b[0;34m\u001b[0m\u001b[0;34m\u001b[0m\u001b[0m\n\u001b[1;32m    432\u001b[0m             \u001b[0;32melse\u001b[0m\u001b[0;34m:\u001b[0m\u001b[0;34m\u001b[0m\u001b[0;34m\u001b[0m\u001b[0m\n\u001b[0;32m--> 433\u001b[0;31m                 \u001b[0mX\u001b[0m\u001b[0;34m,\u001b[0m \u001b[0my\u001b[0m \u001b[0;34m=\u001b[0m \u001b[0mcheck_X_y\u001b[0m\u001b[0;34m(\u001b[0m\u001b[0mX\u001b[0m\u001b[0;34m,\u001b[0m \u001b[0my\u001b[0m\u001b[0;34m,\u001b[0m \u001b[0;34m**\u001b[0m\u001b[0mcheck_params\u001b[0m\u001b[0;34m)\u001b[0m\u001b[0;34m\u001b[0m\u001b[0;34m\u001b[0m\u001b[0m\n\u001b[0m\u001b[1;32m    434\u001b[0m             \u001b[0mout\u001b[0m \u001b[0;34m=\u001b[0m \u001b[0mX\u001b[0m\u001b[0;34m,\u001b[0m \u001b[0my\u001b[0m\u001b[0;34m\u001b[0m\u001b[0;34m\u001b[0m\u001b[0m\n\u001b[1;32m    435\u001b[0m \u001b[0;34m\u001b[0m\u001b[0m\n",
      "\u001b[0;32m/opt/homebrew/anaconda3/lib/python3.8/site-packages/sklearn/utils/validation.py\u001b[0m in \u001b[0;36minner_f\u001b[0;34m(*args, **kwargs)\u001b[0m\n\u001b[1;32m     61\u001b[0m             \u001b[0mextra_args\u001b[0m \u001b[0;34m=\u001b[0m \u001b[0mlen\u001b[0m\u001b[0;34m(\u001b[0m\u001b[0margs\u001b[0m\u001b[0;34m)\u001b[0m \u001b[0;34m-\u001b[0m \u001b[0mlen\u001b[0m\u001b[0;34m(\u001b[0m\u001b[0mall_args\u001b[0m\u001b[0;34m)\u001b[0m\u001b[0;34m\u001b[0m\u001b[0;34m\u001b[0m\u001b[0m\n\u001b[1;32m     62\u001b[0m             \u001b[0;32mif\u001b[0m \u001b[0mextra_args\u001b[0m \u001b[0;34m<=\u001b[0m \u001b[0;36m0\u001b[0m\u001b[0;34m:\u001b[0m\u001b[0;34m\u001b[0m\u001b[0;34m\u001b[0m\u001b[0m\n\u001b[0;32m---> 63\u001b[0;31m                 \u001b[0;32mreturn\u001b[0m \u001b[0mf\u001b[0m\u001b[0;34m(\u001b[0m\u001b[0;34m*\u001b[0m\u001b[0margs\u001b[0m\u001b[0;34m,\u001b[0m \u001b[0;34m**\u001b[0m\u001b[0mkwargs\u001b[0m\u001b[0;34m)\u001b[0m\u001b[0;34m\u001b[0m\u001b[0;34m\u001b[0m\u001b[0m\n\u001b[0m\u001b[1;32m     64\u001b[0m \u001b[0;34m\u001b[0m\u001b[0m\n\u001b[1;32m     65\u001b[0m             \u001b[0;31m# extra_args > 0\u001b[0m\u001b[0;34m\u001b[0m\u001b[0;34m\u001b[0m\u001b[0;34m\u001b[0m\u001b[0m\n",
      "\u001b[0;32m/opt/homebrew/anaconda3/lib/python3.8/site-packages/sklearn/utils/validation.py\u001b[0m in \u001b[0;36mcheck_X_y\u001b[0;34m(X, y, accept_sparse, accept_large_sparse, dtype, order, copy, force_all_finite, ensure_2d, allow_nd, multi_output, ensure_min_samples, ensure_min_features, y_numeric, estimator)\u001b[0m\n\u001b[1;32m    812\u001b[0m         \u001b[0;32mraise\u001b[0m \u001b[0mValueError\u001b[0m\u001b[0;34m(\u001b[0m\u001b[0;34m\"y cannot be None\"\u001b[0m\u001b[0;34m)\u001b[0m\u001b[0;34m\u001b[0m\u001b[0;34m\u001b[0m\u001b[0m\n\u001b[1;32m    813\u001b[0m \u001b[0;34m\u001b[0m\u001b[0m\n\u001b[0;32m--> 814\u001b[0;31m     X = check_array(X, accept_sparse=accept_sparse,\n\u001b[0m\u001b[1;32m    815\u001b[0m                     \u001b[0maccept_large_sparse\u001b[0m\u001b[0;34m=\u001b[0m\u001b[0maccept_large_sparse\u001b[0m\u001b[0;34m,\u001b[0m\u001b[0;34m\u001b[0m\u001b[0;34m\u001b[0m\u001b[0m\n\u001b[1;32m    816\u001b[0m                     \u001b[0mdtype\u001b[0m\u001b[0;34m=\u001b[0m\u001b[0mdtype\u001b[0m\u001b[0;34m,\u001b[0m \u001b[0morder\u001b[0m\u001b[0;34m=\u001b[0m\u001b[0morder\u001b[0m\u001b[0;34m,\u001b[0m \u001b[0mcopy\u001b[0m\u001b[0;34m=\u001b[0m\u001b[0mcopy\u001b[0m\u001b[0;34m,\u001b[0m\u001b[0;34m\u001b[0m\u001b[0;34m\u001b[0m\u001b[0m\n",
      "\u001b[0;32m/opt/homebrew/anaconda3/lib/python3.8/site-packages/sklearn/utils/validation.py\u001b[0m in \u001b[0;36minner_f\u001b[0;34m(*args, **kwargs)\u001b[0m\n\u001b[1;32m     61\u001b[0m             \u001b[0mextra_args\u001b[0m \u001b[0;34m=\u001b[0m \u001b[0mlen\u001b[0m\u001b[0;34m(\u001b[0m\u001b[0margs\u001b[0m\u001b[0;34m)\u001b[0m \u001b[0;34m-\u001b[0m \u001b[0mlen\u001b[0m\u001b[0;34m(\u001b[0m\u001b[0mall_args\u001b[0m\u001b[0;34m)\u001b[0m\u001b[0;34m\u001b[0m\u001b[0;34m\u001b[0m\u001b[0m\n\u001b[1;32m     62\u001b[0m             \u001b[0;32mif\u001b[0m \u001b[0mextra_args\u001b[0m \u001b[0;34m<=\u001b[0m \u001b[0;36m0\u001b[0m\u001b[0;34m:\u001b[0m\u001b[0;34m\u001b[0m\u001b[0;34m\u001b[0m\u001b[0m\n\u001b[0;32m---> 63\u001b[0;31m                 \u001b[0;32mreturn\u001b[0m \u001b[0mf\u001b[0m\u001b[0;34m(\u001b[0m\u001b[0;34m*\u001b[0m\u001b[0margs\u001b[0m\u001b[0;34m,\u001b[0m \u001b[0;34m**\u001b[0m\u001b[0mkwargs\u001b[0m\u001b[0;34m)\u001b[0m\u001b[0;34m\u001b[0m\u001b[0;34m\u001b[0m\u001b[0m\n\u001b[0m\u001b[1;32m     64\u001b[0m \u001b[0;34m\u001b[0m\u001b[0m\n\u001b[1;32m     65\u001b[0m             \u001b[0;31m# extra_args > 0\u001b[0m\u001b[0;34m\u001b[0m\u001b[0;34m\u001b[0m\u001b[0;34m\u001b[0m\u001b[0m\n",
      "\u001b[0;32m/opt/homebrew/anaconda3/lib/python3.8/site-packages/sklearn/utils/validation.py\u001b[0m in \u001b[0;36mcheck_array\u001b[0;34m(array, accept_sparse, accept_large_sparse, dtype, order, copy, force_all_finite, ensure_2d, allow_nd, ensure_min_samples, ensure_min_features, estimator)\u001b[0m\n\u001b[1;32m    614\u001b[0m                     \u001b[0marray\u001b[0m \u001b[0;34m=\u001b[0m \u001b[0marray\u001b[0m\u001b[0;34m.\u001b[0m\u001b[0mastype\u001b[0m\u001b[0;34m(\u001b[0m\u001b[0mdtype\u001b[0m\u001b[0;34m,\u001b[0m \u001b[0mcasting\u001b[0m\u001b[0;34m=\u001b[0m\u001b[0;34m\"unsafe\"\u001b[0m\u001b[0;34m,\u001b[0m \u001b[0mcopy\u001b[0m\u001b[0;34m=\u001b[0m\u001b[0;32mFalse\u001b[0m\u001b[0;34m)\u001b[0m\u001b[0;34m\u001b[0m\u001b[0;34m\u001b[0m\u001b[0m\n\u001b[1;32m    615\u001b[0m                 \u001b[0;32melse\u001b[0m\u001b[0;34m:\u001b[0m\u001b[0;34m\u001b[0m\u001b[0;34m\u001b[0m\u001b[0m\n\u001b[0;32m--> 616\u001b[0;31m                     \u001b[0marray\u001b[0m \u001b[0;34m=\u001b[0m \u001b[0mnp\u001b[0m\u001b[0;34m.\u001b[0m\u001b[0masarray\u001b[0m\u001b[0;34m(\u001b[0m\u001b[0marray\u001b[0m\u001b[0;34m,\u001b[0m \u001b[0morder\u001b[0m\u001b[0;34m=\u001b[0m\u001b[0morder\u001b[0m\u001b[0;34m,\u001b[0m \u001b[0mdtype\u001b[0m\u001b[0;34m=\u001b[0m\u001b[0mdtype\u001b[0m\u001b[0;34m)\u001b[0m\u001b[0;34m\u001b[0m\u001b[0;34m\u001b[0m\u001b[0m\n\u001b[0m\u001b[1;32m    617\u001b[0m             \u001b[0;32mexcept\u001b[0m \u001b[0mComplexWarning\u001b[0m \u001b[0;32mas\u001b[0m \u001b[0mcomplex_warning\u001b[0m\u001b[0;34m:\u001b[0m\u001b[0;34m\u001b[0m\u001b[0;34m\u001b[0m\u001b[0m\n\u001b[1;32m    618\u001b[0m                 raise ValueError(\"Complex data not supported\\n\"\n",
      "\u001b[0;32m/opt/homebrew/anaconda3/lib/python3.8/site-packages/numpy/core/_asarray.py\u001b[0m in \u001b[0;36masarray\u001b[0;34m(a, dtype, order, like)\u001b[0m\n\u001b[1;32m    100\u001b[0m         \u001b[0;32mreturn\u001b[0m \u001b[0m_asarray_with_like\u001b[0m\u001b[0;34m(\u001b[0m\u001b[0ma\u001b[0m\u001b[0;34m,\u001b[0m \u001b[0mdtype\u001b[0m\u001b[0;34m=\u001b[0m\u001b[0mdtype\u001b[0m\u001b[0;34m,\u001b[0m \u001b[0morder\u001b[0m\u001b[0;34m=\u001b[0m\u001b[0morder\u001b[0m\u001b[0;34m,\u001b[0m \u001b[0mlike\u001b[0m\u001b[0;34m=\u001b[0m\u001b[0mlike\u001b[0m\u001b[0;34m)\u001b[0m\u001b[0;34m\u001b[0m\u001b[0;34m\u001b[0m\u001b[0m\n\u001b[1;32m    101\u001b[0m \u001b[0;34m\u001b[0m\u001b[0m\n\u001b[0;32m--> 102\u001b[0;31m     \u001b[0;32mreturn\u001b[0m \u001b[0marray\u001b[0m\u001b[0;34m(\u001b[0m\u001b[0ma\u001b[0m\u001b[0;34m,\u001b[0m \u001b[0mdtype\u001b[0m\u001b[0;34m,\u001b[0m \u001b[0mcopy\u001b[0m\u001b[0;34m=\u001b[0m\u001b[0;32mFalse\u001b[0m\u001b[0;34m,\u001b[0m \u001b[0morder\u001b[0m\u001b[0;34m=\u001b[0m\u001b[0morder\u001b[0m\u001b[0;34m)\u001b[0m\u001b[0;34m\u001b[0m\u001b[0;34m\u001b[0m\u001b[0m\n\u001b[0m\u001b[1;32m    103\u001b[0m \u001b[0;34m\u001b[0m\u001b[0m\n\u001b[1;32m    104\u001b[0m \u001b[0;34m\u001b[0m\u001b[0m\n",
      "\u001b[0;31mValueError\u001b[0m: setting an array element with a sequence."
     ]
    }
   ],
   "source": [
    "X = [tfidf.fit_transform(item) for item in tokens.values()]\n",
    "# clf = MLPClassifier(random_state=1, max_iter=300).fit(X, birch_clusters)"
   ]
  },
  {
   "cell_type": "markdown",
   "metadata": {},
   "source": [
    "# Hierarchical"
   ]
  },
  {
   "cell_type": "code",
   "execution_count": 205,
   "metadata": {},
   "outputs": [],
   "source": [
    "from sklearn.metrics.pairwise import cosine_similarity\n",
    "from scipy.cluster.hierarchy import ward, dendrogram, fcluster"
   ]
  },
  {
   "cell_type": "code",
   "execution_count": 206,
   "metadata": {},
   "outputs": [],
   "source": [
    "dist = 1 - cosine_similarity(tfidf_matrix)\n",
    "\n",
    "Z = ward(dist)"
   ]
  },
  {
   "cell_type": "code",
   "execution_count": 207,
   "metadata": {},
   "outputs": [
    {
     "data": {
      "image/png": "[encoded data removed]",
      "text/plain": [
       "<Figure size 1080x1440 with 1 Axes>"
      ]
     },
     "metadata": {
      "needs_background": "light"
     },
     "output_type": "display_data"
    }
   ],
   "source": [
    "fig, ax = plt.subplots(figsize=(15,20))\n",
    "ax = dendrogram(Z, orientation=\"left\", labels=list(tokens.keys()))"
   ]
  },
  {
   "cell_type": "code",
   "execution_count": 68,
   "metadata": {},
   "outputs": [
    {
     "data": {
      "text/plain": [
       "array([7, 1, 5, 4, 8, 6, 9, 2, 1, 1, 3], dtype=int32)"
      ]
     },
     "execution_count": 68,
     "metadata": {},
     "output_type": "execute_result"
    }
   ],
   "source": [
    "fcluster(Z, 0.9, criterion='distance')"
   ]
  },
  {
   "cell_type": "markdown",
   "metadata": {},
   "source": [
    "# T-SNE"
   ]
  },
  {
   "cell_type": "code",
   "execution_count": 142,
   "metadata": {},
   "outputs": [],
   "source": [
    "from sklearn.manifold import TSNE"
   ]
  },
  {
   "cell_type": "code",
   "execution_count": 143,
   "metadata": {},
   "outputs": [
    {
     "name": "stderr",
     "output_type": "stream",
     "text": [
      "/home/connor/anaconda3/envs/ML/lib/python3.9/site-packages/sklearn/manifold/_t_sne.py:780: FutureWarning: The default initialization in TSNE will change from 'random' to 'pca' in 1.2.\n",
      "  warnings.warn(\n"
     ]
    }
   ],
   "source": [
    "tsne = TSNE(n_components=2, learning_rate='auto')\n",
    "\n",
    "TSNE_clusters = tsne.fit_transform(tfidf_matrix)"
   ]
  },
  {
   "cell_type": "code",
   "execution_count": 161,
   "metadata": {},
   "outputs": [
    {
     "data": {
      "text/html": [
       "<div>\n",
       "<style scoped>\n",
       "    .dataframe tbody tr th:only-of-type {\n",
       "        vertical-align: middle;\n",
       "    }\n",
       "\n",
       "    .dataframe tbody tr th {\n",
       "        vertical-align: top;\n",
       "    }\n",
       "\n",
       "    .dataframe thead th {\n",
       "        text-align: right;\n",
       "    }\n",
       "</style>\n",
       "<table border=\"1\" class=\"dataframe\">\n",
       "  <thead>\n",
       "    <tr style=\"text-align: right;\">\n",
       "      <th></th>\n",
       "      <th>tsne-1</th>\n",
       "      <th>tsne-2</th>\n",
       "      <th>y</th>\n",
       "    </tr>\n",
       "  </thead>\n",
       "  <tbody>\n",
       "    <tr>\n",
       "      <th>0</th>\n",
       "      <td>102.493866</td>\n",
       "      <td>33.272102</td>\n",
       "      <td>0</td>\n",
       "    </tr>\n",
       "    <tr>\n",
       "      <th>1</th>\n",
       "      <td>21.955439</td>\n",
       "      <td>40.880768</td>\n",
       "      <td>1</td>\n",
       "    </tr>\n",
       "    <tr>\n",
       "      <th>2</th>\n",
       "      <td>26.724407</td>\n",
       "      <td>-32.817394</td>\n",
       "      <td>0</td>\n",
       "    </tr>\n",
       "    <tr>\n",
       "      <th>3</th>\n",
       "      <td>-31.759233</td>\n",
       "      <td>101.498535</td>\n",
       "      <td>4</td>\n",
       "    </tr>\n",
       "    <tr>\n",
       "      <th>4</th>\n",
       "      <td>57.446392</td>\n",
       "      <td>110.992821</td>\n",
       "      <td>2</td>\n",
       "    </tr>\n",
       "    <tr>\n",
       "      <th>5</th>\n",
       "      <td>-100.383141</td>\n",
       "      <td>54.650162</td>\n",
       "      <td>0</td>\n",
       "    </tr>\n",
       "    <tr>\n",
       "      <th>6</th>\n",
       "      <td>-42.664532</td>\n",
       "      <td>-85.461624</td>\n",
       "      <td>2</td>\n",
       "    </tr>\n",
       "    <tr>\n",
       "      <th>7</th>\n",
       "      <td>-40.777489</td>\n",
       "      <td>1.815273</td>\n",
       "      <td>3</td>\n",
       "    </tr>\n",
       "    <tr>\n",
       "      <th>8</th>\n",
       "      <td>37.395897</td>\n",
       "      <td>-111.934486</td>\n",
       "      <td>1</td>\n",
       "    </tr>\n",
       "    <tr>\n",
       "      <th>9</th>\n",
       "      <td>-111.005966</td>\n",
       "      <td>-36.201389</td>\n",
       "      <td>1</td>\n",
       "    </tr>\n",
       "    <tr>\n",
       "      <th>10</th>\n",
       "      <td>104.529877</td>\n",
       "      <td>-49.788845</td>\n",
       "      <td>0</td>\n",
       "    </tr>\n",
       "  </tbody>\n",
       "</table>\n",
       "</div>"
      ],
      "text/plain": [
       "        tsne-1      tsne-2  y\n",
       "0   102.493866   33.272102  0\n",
       "1    21.955439   40.880768  1\n",
       "2    26.724407  -32.817394  0\n",
       "3   -31.759233  101.498535  4\n",
       "4    57.446392  110.992821  2\n",
       "5  -100.383141   54.650162  0\n",
       "6   -42.664532  -85.461624  2\n",
       "7   -40.777489    1.815273  3\n",
       "8    37.395897 -111.934486  1\n",
       "9  -111.005966  -36.201389  1\n",
       "10  104.529877  -49.788845  0"
      ]
     },
     "execution_count": 161,
     "metadata": {},
     "output_type": "execute_result"
    }
   ],
   "source": [
    "TSNE_clusters\n",
    "\n",
    "data = {'tsne-1': TSNE_clusters[:, 0], 'tsne-2': TSNE_clusters[:, 1], 'y': y}\n",
    "\n",
    "plot_tsne_df = pd.DataFrame(data)\n",
    "plot_tsne_df"
   ]
  },
  {
   "cell_type": "code",
   "execution_count": 178,
   "metadata": {},
   "outputs": [
    {
     "data": {
      "text/plain": [
       "<matplotlib.legend.Legend at 0x7fd7e131c880>"
      ]
     },
     "execution_count": 178,
     "metadata": {},
     "output_type": "execute_result"
    },
    {
     "data": {
      "image/png": "[encoded data removed]",
      "text/plain": [
       "<Figure size 576x576 with 1 Axes>"
      ]
     },
     "metadata": {
      "needs_background": "light"
     },
     "output_type": "display_data"
    }
   ],
   "source": [
    "fig, ax = plt.subplots(figsize=(8, 8))\n",
    "sns.scatterplot(\n",
    "    x=\"tsne-1\", y=\"tsne-2\",\n",
    "    hue=\"y\",\n",
    "    palette=sns.color_palette(\"hls\", 5),\n",
    "    data=plot_tsne_df,\n",
    "    legend=\"full\",\n",
    ")\n",
    "plt.legend(labels=[\"pharmacy\", \"ketmaine\", \"cannabis\", \"cars\", \"other\"])"
   ]
  },
  {
   "cell_type": "code",
   "execution_count": 145,
   "metadata": {},
   "outputs": [],
   "source": [
    "tsne_kmeans = KMeans(n_clusters=5)\n",
    "\n",
    "tsne_kmeans_clusters = kmeans.fit_transform(TSNE_clusters)\n",
    "\n",
    "cluster_labels = kmeans.labels_"
   ]
  },
  {
   "cell_type": "code",
   "execution_count": 149,
   "metadata": {},
   "outputs": [
    {
     "data": {
      "text/html": [
       "<div>\n",
       "<style scoped>\n",
       "    .dataframe tbody tr th:only-of-type {\n",
       "        vertical-align: middle;\n",
       "    }\n",
       "\n",
       "    .dataframe tbody tr th {\n",
       "        vertical-align: top;\n",
       "    }\n",
       "\n",
       "    .dataframe thead th {\n",
       "        text-align: right;\n",
       "    }\n",
       "</style>\n",
       "<table border=\"1\" class=\"dataframe\">\n",
       "  <thead>\n",
       "    <tr style=\"text-align: right;\">\n",
       "      <th></th>\n",
       "      <th>domain</th>\n",
       "      <th>cluster</th>\n",
       "      <th>total_spent</th>\n",
       "    </tr>\n",
       "  </thead>\n",
       "  <tbody>\n",
       "    <tr>\n",
       "      <th>0</th>\n",
       "      <td>prestigeglobalchem.com</td>\n",
       "      <td>2</td>\n",
       "      <td>36.50000</td>\n",
       "    </tr>\n",
       "    <tr>\n",
       "      <th>0</th>\n",
       "      <td>CJKETAMINESTORE.NET</td>\n",
       "      <td>2</td>\n",
       "      <td>55.00000</td>\n",
       "    </tr>\n",
       "    <tr>\n",
       "      <th>2</th>\n",
       "      <td>purechempharma.com</td>\n",
       "      <td>0</td>\n",
       "      <td>24.00000</td>\n",
       "    </tr>\n",
       "    <tr>\n",
       "      <th>1</th>\n",
       "      <td>tomh.uk</td>\n",
       "      <td>4</td>\n",
       "      <td>18.00000</td>\n",
       "    </tr>\n",
       "    <tr>\n",
       "      <th>2</th>\n",
       "      <td>jungleboyspacks.com</td>\n",
       "      <td>2</td>\n",
       "      <td>16.88000</td>\n",
       "    </tr>\n",
       "    <tr>\n",
       "      <th>2</th>\n",
       "      <td>FAITHSTANDARDPHARMACY.COM</td>\n",
       "      <td>4</td>\n",
       "      <td>12.00000</td>\n",
       "    </tr>\n",
       "    <tr>\n",
       "      <th>4</th>\n",
       "      <td>K2DRUGSTORE.COM</td>\n",
       "      <td>1</td>\n",
       "      <td>18.00000</td>\n",
       "    </tr>\n",
       "    <tr>\n",
       "      <th>1</th>\n",
       "      <td>vland-official.com</td>\n",
       "      <td>1</td>\n",
       "      <td>123.66876</td>\n",
       "    </tr>\n",
       "    <tr>\n",
       "      <th>0</th>\n",
       "      <td>megaketaminestore.com</td>\n",
       "      <td>3</td>\n",
       "      <td>24.00000</td>\n",
       "    </tr>\n",
       "    <tr>\n",
       "      <th>0</th>\n",
       "      <td>ketamineforsale.com</td>\n",
       "      <td>1</td>\n",
       "      <td>28.88000</td>\n",
       "    </tr>\n",
       "    <tr>\n",
       "      <th>3</th>\n",
       "      <td>MORRISAPOTEK.COM</td>\n",
       "      <td>0</td>\n",
       "      <td>12.00000</td>\n",
       "    </tr>\n",
       "  </tbody>\n",
       "</table>\n",
       "</div>"
      ],
      "text/plain": [
       "                      domain  cluster  total_spent\n",
       "0     prestigeglobalchem.com        2     36.50000\n",
       "0        CJKETAMINESTORE.NET        2     55.00000\n",
       "2         purechempharma.com        0     24.00000\n",
       "1                    tomh.uk        4     18.00000\n",
       "2        jungleboyspacks.com        2     16.88000\n",
       "2  FAITHSTANDARDPHARMACY.COM        4     12.00000\n",
       "4            K2DRUGSTORE.COM        1     18.00000\n",
       "1         vland-official.com        1    123.66876\n",
       "0      megaketaminestore.com        3     24.00000\n",
       "0        ketamineforsale.com        1     28.88000\n",
       "3           MORRISAPOTEK.COM        0     12.00000"
      ]
     },
     "execution_count": 149,
     "metadata": {},
     "output_type": "execute_result"
    }
   ],
   "source": [
    "tsne_domains = {'domain': tokens.keys(), 'cluster': cluster_labels, 'total_spent': list(costs.values())}\n",
    "\n",
    "tsne_df = pd.DataFrame(tsne_domains, index=[clusters], columns=['domain', 'cluster', 'total_spent'])\n",
    "\n",
    "tsne_df"
   ]
  },
  {
   "cell_type": "code",
   "execution_count": 150,
   "metadata": {},
   "outputs": [
    {
     "data": {
      "text/plain": [
       "cluster\n",
       "0    18.000000\n",
       "1    56.849587\n",
       "2    36.126667\n",
       "3    24.000000\n",
       "4    15.000000\n",
       "Name: total_spent, dtype: float64"
      ]
     },
     "execution_count": 150,
     "metadata": {},
     "output_type": "execute_result"
    }
   ],
   "source": [
    "tsne_total_spent = tsne_df['total_spent'].groupby(tsne_df['cluster'])\n",
    "\n",
    "tsne_total_spent.mean()"
   ]
  },
  {
   "cell_type": "code",
   "execution_count": 151,
   "metadata": {},
   "outputs": [
    {
     "name": "stdout",
     "output_type": "stream",
     "text": [
      "               domain  cluster  total_spent\n",
      "2  purechempharma.com        0         24.0\n",
      "3    MORRISAPOTEK.COM        0         12.0 \n",
      "\n",
      "\n",
      "                domain  cluster  total_spent\n",
      "4      K2DRUGSTORE.COM        1     18.00000\n",
      "1   vland-official.com        1    123.66876\n",
      "0  ketamineforsale.com        1     28.88000 \n",
      "\n",
      "\n",
      "                   domain  cluster  total_spent\n",
      "0  prestigeglobalchem.com        2        36.50\n",
      "0     CJKETAMINESTORE.NET        2        55.00\n",
      "2     jungleboyspacks.com        2        16.88 \n",
      "\n",
      "\n",
      "                  domain  cluster  total_spent\n",
      "0  megaketaminestore.com        3         24.0 \n",
      "\n",
      "\n",
      "                      domain  cluster  total_spent\n",
      "1                    tomh.uk        4         18.0\n",
      "2  FAITHSTANDARDPHARMACY.COM        4         12.0 \n",
      "\n",
      "\n"
     ]
    }
   ],
   "source": [
    "grouped_df = tsne_df.groupby('cluster')\n",
    "for key, item in grouped_df:\n",
    "    print(grouped_df.get_group(key), \"\\n\\n\")"
   ]
  },
  {
   "cell_type": "code",
   "execution_count": null,
   "metadata": {},
   "outputs": [],
   "source": []
  }
 ],
 "metadata": {
  "kernelspec": {
   "display_name": "Python [conda env:ML]",
   "language": "python",
   "name": "conda-env-ML-py"
  },
  "language_info": {
   "codemirror_mode": {
    "name": "ipython",
    "version": 3
   },
   "file_extension": ".py",
   "mimetype": "text/x-python",
   "name": "python",
   "nbconvert_exporter": "python",
   "pygments_lexer": "ipython3",
   "version": "3.9.7"
  }
 },
 "nbformat": 4,
 "nbformat_minor": 4
}
