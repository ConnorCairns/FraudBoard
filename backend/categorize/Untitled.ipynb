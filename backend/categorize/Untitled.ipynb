{
 "cells": [
  {
   "cell_type": "code",
   "execution_count": 180,
   "metadata": {},
   "outputs": [],
   "source": [
    "import boto3\n",
    "from sklearn.feature_extraction.text import TfidfVectorizer\n",
    "from sklearn.cluster import KMeans\n",
    "from sklearn.metrics import silhouette_score\n",
    "import pandas as pd\n",
    "import matplotlib.pyplot as plt\n",
    "import seaborn as sns"
   ]
  },
  {
   "cell_type": "markdown",
   "metadata": {},
   "source": [
    "# Getting Tokens"
   ]
  },
  {
   "cell_type": "code",
   "execution_count": 4,
   "metadata": {},
   "outputs": [],
   "source": [
    "TABLE = \"domains\"\n",
    "\n",
    "def add_to_tokens_list(tokens, costs, items):\n",
    "    for item in items:\n",
    "        tokens[item[\"domain_name\"]] = item[\"tokens\"]\n",
    "        costs[item[\"domain_name\"]] = float(item[\"total_spent\"]) #DynamoDB stores as Decimal\n",
    "\n",
    "    return tokens, costs\n",
    "\n",
    "\n",
    "def get_tokens():\n",
    "    tokens = {}\n",
    "    costs = {}\n",
    "\n",
    "    dynamo = boto3.resource(\"dynamodb\").Table(TABLE)\n",
    "\n",
    "    res = dynamo.scan()\n",
    "    tokens, costs = add_to_tokens_list(tokens, costs, res[\"Items\"])\n",
    "\n",
    "    while \"LastEvaluatedKey\" in res:\n",
    "        res = dynamo.scan(ExclusiveStartKey=res[\"LastEvaluatedKey\"])\n",
    "        tokens = add_to_tokens_list(tokens, res[\"Items\"])\n",
    "\n",
    "    return tokens, costs"
   ]
  },
  {
   "cell_type": "code",
   "execution_count": 5,
   "metadata": {},
   "outputs": [
    {
     "data": {
      "text/plain": [
       "dict_keys(['prestigeglobalchem.com', 'CJKETAMINESTORE.NET', 'purechempharma.com', 'tomh.uk', 'jungleboyspacks.com', 'FAITHSTANDARDPHARMACY.COM', 'K2DRUGSTORE.COM', 'vland-official.com', 'megaketaminestore.com', 'ketamineforsale.com', 'MORRISAPOTEK.COM'])"
      ]
     },
     "execution_count": 5,
     "metadata": {},
     "output_type": "execute_result"
    }
   ],
   "source": [
    "tokens, costs = get_tokens()\n",
    "tokens.keys()"
   ]
  },
  {
   "cell_type": "code",
   "execution_count": 160,
   "metadata": {},
   "outputs": [],
   "source": [
    "#0=pharmacy, 1=ketamine, 2=cannabis, 3=cars, 4=other \n",
    "y = [0, 1, 0, 4, 2, 0, 2, 3, 1, 1, 0]"
   ]
  },
  {
   "cell_type": "code",
   "execution_count": 65,
   "metadata": {},
   "outputs": [
    {
     "data": {
      "text/plain": [
       "{'prestigeglobalchem.com': 36.5,\n",
       " 'CJKETAMINESTORE.NET': 55.0,\n",
       " 'purechempharma.com': 24.0,\n",
       " 'tomh.uk': 18.0,\n",
       " 'jungleboyspacks.com': 16.88,\n",
       " 'FAITHSTANDARDPHARMACY.COM': 12.0,\n",
       " 'K2DRUGSTORE.COM': 18.0,\n",
       " 'vland-official.com': 123.66875982284546,\n",
       " 'megaketaminestore.com': 24.0,\n",
       " 'ketamineforsale.com': 28.88,\n",
       " 'MORRISAPOTEK.COM': 12.0}"
      ]
     },
     "execution_count": 65,
     "metadata": {},
     "output_type": "execute_result"
    }
   ],
   "source": [
    "costs"
   ]
  },
  {
   "cell_type": "markdown",
   "metadata": {},
   "source": [
    "# TFIDF Vectorizing"
   ]
  },
  {
   "cell_type": "code",
   "execution_count": 7,
   "metadata": {},
   "outputs": [
    {
     "name": "stderr",
     "output_type": "stream",
     "text": [
      "/home/connor/anaconda3/envs/ML/lib/python3.9/site-packages/sklearn/feature_extraction/text.py:396: UserWarning: Your stop_words may be inconsistent with your preprocessing. Tokenizing the stop words generated tokens ['b', 'c', 'd', 'e', 'f', 'g', 'h', 'k', 'l', 'm', 'n', 'o', 'p', 'r', 's', 't', 'u', 'v', 'w', 'x', 'y'] not in stop_words.\n",
      "  warnings.warn(\n"
     ]
    }
   ],
   "source": [
    "#Would use lambda for this but TfidfVectorizer is weird about lambdas\n",
    "def identity(token):\n",
    "    return token\n",
    "\n",
    "tfidf = TfidfVectorizer(max_df=0.8, min_df=1, stop_words='english', use_idf=True, tokenizer=identity, preprocessor=identity, token_pattern=None)\n",
    "\n",
    "tfidf_matrix = tfidf.fit_transform(list(tokens.values()))"
   ]
  },
  {
   "cell_type": "code",
   "execution_count": 8,
   "metadata": {},
   "outputs": [
    {
     "data": {
      "text/plain": [
       "{'buy', 'cart', 'contact', 'offer', 'onlin', 'product', 'right', 'sale'}"
      ]
     },
     "execution_count": 8,
     "metadata": {},
     "output_type": "execute_result"
    }
   ],
   "source": [
    "tfidf.stop_words_"
   ]
  },
  {
   "cell_type": "markdown",
   "metadata": {},
   "source": [
    "# KMeans"
   ]
  },
  {
   "cell_type": "markdown",
   "metadata": {},
   "source": [
    "## Silhouette"
   ]
  },
  {
   "cell_type": "code",
   "execution_count": 181,
   "metadata": {},
   "outputs": [],
   "source": [
    "s = []\n",
    "k_max = 10\n",
    "\n",
    "for k in range(2, k_max):\n",
    "    kmeans = KMeans(n_clusters=k)\n",
    "    kmeans.fit(tfidf_matrix)\n",
    "    \n",
    "    s.append(silhouette_score(tfidf_matrix, kmeans.labels_, metric=\"euclidean\"))"
   ]
  },
  {
   "cell_type": "code",
   "execution_count": 191,
   "metadata": {},
   "outputs": [
    {
     "data": {
      "text/plain": [
       "Text(0, 0.5, 'Silhouette Score')"
      ]
     },
     "execution_count": 191,
     "metadata": {},
     "output_type": "execute_result"
    },
    {
     "data": {
      "image/png": "[encoded data removed]",
      "text/plain": [
       "<Figure size 576x576 with 1 Axes>"
      ]
     },
     "metadata": {
      "needs_background": "light"
     },
     "output_type": "display_data"
    }
   ],
   "source": [
    "fig, ax = plt.subplots(figsize=(8, 8))\n",
    "ax.plot(list(range(2, k_max)), s)\n",
    "ax.set_xlabel(\"k\")\n",
    "ax.set_ylabel(\"Silhouette Score\")"
   ]
  },
  {
   "cell_type": "code",
   "execution_count": 192,
   "metadata": {},
   "outputs": [],
   "source": [
    "kmeans = KMeans(n_clusters=6)\n",
    "\n",
    "kmeans.fit(tfidf_matrix)\n",
    "\n",
    "clusters = kmeans.labels_.tolist()"
   ]
  },
  {
   "cell_type": "code",
   "execution_count": 193,
   "metadata": {},
   "outputs": [],
   "source": [
    "domains = {'domain': tokens.keys(), 'cluster': clusters, 'total_spent': list(costs.values())}\n",
    "\n",
    "df = pd.DataFrame(domains, index=[clusters], columns=['domain', 'cluster', 'total_spent'])"
   ]
  },
  {
   "cell_type": "code",
   "execution_count": 194,
   "metadata": {},
   "outputs": [
    {
     "data": {
      "text/plain": [
       "1    3\n",
       "3    3\n",
       "0    2\n",
       "2    1\n",
       "4    1\n",
       "5    1\n",
       "Name: cluster, dtype: int64"
      ]
     },
     "execution_count": 194,
     "metadata": {},
     "output_type": "execute_result"
    }
   ],
   "source": [
    "df['cluster'].value_counts()"
   ]
  },
  {
   "cell_type": "code",
   "execution_count": 195,
   "metadata": {},
   "outputs": [
    {
     "data": {
      "text/html": [
       "<div>\n",
       "<style scoped>\n",
       "    .dataframe tbody tr th:only-of-type {\n",
       "        vertical-align: middle;\n",
       "    }\n",
       "\n",
       "    .dataframe tbody tr th {\n",
       "        vertical-align: top;\n",
       "    }\n",
       "\n",
       "    .dataframe thead th {\n",
       "        text-align: right;\n",
       "    }\n",
       "</style>\n",
       "<table border=\"1\" class=\"dataframe\">\n",
       "  <thead>\n",
       "    <tr style=\"text-align: right;\">\n",
       "      <th></th>\n",
       "      <th>domain</th>\n",
       "      <th>cluster</th>\n",
       "      <th>total_spent</th>\n",
       "    </tr>\n",
       "  </thead>\n",
       "  <tbody>\n",
       "    <tr>\n",
       "      <th>0</th>\n",
       "      <td>prestigeglobalchem.com</td>\n",
       "      <td>0</td>\n",
       "      <td>36.50000</td>\n",
       "    </tr>\n",
       "    <tr>\n",
       "      <th>1</th>\n",
       "      <td>CJKETAMINESTORE.NET</td>\n",
       "      <td>1</td>\n",
       "      <td>55.00000</td>\n",
       "    </tr>\n",
       "    <tr>\n",
       "      <th>3</th>\n",
       "      <td>purechempharma.com</td>\n",
       "      <td>3</td>\n",
       "      <td>24.00000</td>\n",
       "    </tr>\n",
       "    <tr>\n",
       "      <th>2</th>\n",
       "      <td>tomh.uk</td>\n",
       "      <td>2</td>\n",
       "      <td>18.00000</td>\n",
       "    </tr>\n",
       "    <tr>\n",
       "      <th>3</th>\n",
       "      <td>jungleboyspacks.com</td>\n",
       "      <td>3</td>\n",
       "      <td>16.88000</td>\n",
       "    </tr>\n",
       "    <tr>\n",
       "      <th>3</th>\n",
       "      <td>FAITHSTANDARDPHARMACY.COM</td>\n",
       "      <td>3</td>\n",
       "      <td>12.00000</td>\n",
       "    </tr>\n",
       "    <tr>\n",
       "      <th>4</th>\n",
       "      <td>K2DRUGSTORE.COM</td>\n",
       "      <td>4</td>\n",
       "      <td>18.00000</td>\n",
       "    </tr>\n",
       "    <tr>\n",
       "      <th>0</th>\n",
       "      <td>vland-official.com</td>\n",
       "      <td>0</td>\n",
       "      <td>123.66876</td>\n",
       "    </tr>\n",
       "    <tr>\n",
       "      <th>1</th>\n",
       "      <td>megaketaminestore.com</td>\n",
       "      <td>1</td>\n",
       "      <td>24.00000</td>\n",
       "    </tr>\n",
       "    <tr>\n",
       "      <th>1</th>\n",
       "      <td>ketamineforsale.com</td>\n",
       "      <td>1</td>\n",
       "      <td>28.88000</td>\n",
       "    </tr>\n",
       "    <tr>\n",
       "      <th>5</th>\n",
       "      <td>MORRISAPOTEK.COM</td>\n",
       "      <td>5</td>\n",
       "      <td>12.00000</td>\n",
       "    </tr>\n",
       "  </tbody>\n",
       "</table>\n",
       "</div>"
      ],
      "text/plain": [
       "                      domain  cluster  total_spent\n",
       "0     prestigeglobalchem.com        0     36.50000\n",
       "1        CJKETAMINESTORE.NET        1     55.00000\n",
       "3         purechempharma.com        3     24.00000\n",
       "2                    tomh.uk        2     18.00000\n",
       "3        jungleboyspacks.com        3     16.88000\n",
       "3  FAITHSTANDARDPHARMACY.COM        3     12.00000\n",
       "4            K2DRUGSTORE.COM        4     18.00000\n",
       "0         vland-official.com        0    123.66876\n",
       "1      megaketaminestore.com        1     24.00000\n",
       "1        ketamineforsale.com        1     28.88000\n",
       "5           MORRISAPOTEK.COM        5     12.00000"
      ]
     },
     "execution_count": 195,
     "metadata": {},
     "output_type": "execute_result"
    }
   ],
   "source": [
    "df"
   ]
  },
  {
   "cell_type": "code",
   "execution_count": 196,
   "metadata": {},
   "outputs": [
    {
     "data": {
      "text/plain": [
       "cluster\n",
       "0    80.084380\n",
       "1    35.960000\n",
       "2    18.000000\n",
       "3    17.626667\n",
       "4    18.000000\n",
       "5    12.000000\n",
       "Name: total_spent, dtype: float64"
      ]
     },
     "execution_count": 196,
     "metadata": {},
     "output_type": "execute_result"
    }
   ],
   "source": [
    "grouped_total_spent = df['total_spent'].groupby(df['cluster'])\n",
    "\n",
    "grouped_total_spent.mean()"
   ]
  },
  {
   "cell_type": "code",
   "execution_count": 197,
   "metadata": {},
   "outputs": [],
   "source": [
    "grouped_df = df.groupby('cluster')"
   ]
  },
  {
   "cell_type": "code",
   "execution_count": 198,
   "metadata": {},
   "outputs": [
    {
     "name": "stdout",
     "output_type": "stream",
     "text": [
      "                   domain  cluster  total_spent\n",
      "0  prestigeglobalchem.com        0     36.50000\n",
      "0      vland-official.com        0    123.66876 \n",
      "\n",
      "\n",
      "                  domain  cluster  total_spent\n",
      "1    CJKETAMINESTORE.NET        1        55.00\n",
      "1  megaketaminestore.com        1        24.00\n",
      "1    ketamineforsale.com        1        28.88 \n",
      "\n",
      "\n",
      "    domain  cluster  total_spent\n",
      "2  tomh.uk        2         18.0 \n",
      "\n",
      "\n",
      "                      domain  cluster  total_spent\n",
      "3         purechempharma.com        3        24.00\n",
      "3        jungleboyspacks.com        3        16.88\n",
      "3  FAITHSTANDARDPHARMACY.COM        3        12.00 \n",
      "\n",
      "\n",
      "            domain  cluster  total_spent\n",
      "4  K2DRUGSTORE.COM        4         18.0 \n",
      "\n",
      "\n",
      "             domain  cluster  total_spent\n",
      "5  MORRISAPOTEK.COM        5         12.0 \n",
      "\n",
      "\n"
     ]
    }
   ],
   "source": [
    "for key, item in grouped_df:\n",
    "    print(grouped_df.get_group(key), \"\\n\\n\")"
   ]
  },
  {
   "cell_type": "code",
   "execution_count": 73,
   "metadata": {},
   "outputs": [
    {
     "data": {
      "text/plain": [
       "array([0], dtype=int32)"
      ]
     },
     "execution_count": 73,
     "metadata": {},
     "output_type": "execute_result"
    }
   ],
   "source": [
    "kmeans.predict(tfidf.fit_transform(list(tokens.values()))[1])"
   ]
  },
  {
   "cell_type": "markdown",
   "metadata": {},
   "source": [
    "# Hierarchical"
   ]
  },
  {
   "cell_type": "code",
   "execution_count": 59,
   "metadata": {},
   "outputs": [],
   "source": [
    "from sklearn.metrics.pairwise import cosine_similarity\n",
    "from scipy.cluster.hierarchy import ward, dendrogram, fcluster"
   ]
  },
  {
   "cell_type": "code",
   "execution_count": 60,
   "metadata": {},
   "outputs": [],
   "source": [
    "dist = 1 - cosine_similarity(tfidf_matrix)\n",
    "\n",
    "Z = ward(dist)"
   ]
  },
  {
   "cell_type": "code",
   "execution_count": 61,
   "metadata": {},
   "outputs": [
    {
     "data": {
      "image/png": "[encoded data removed]",
      "text/plain": [
       "<Figure size 1080x1440 with 1 Axes>"
      ]
     },
     "metadata": {
      "needs_background": "light"
     },
     "output_type": "display_data"
    }
   ],
   "source": [
    "fig, ax = plt.subplots(figsize=(15,20))\n",
    "ax = dendrogram(Z, orientation=\"left\", labels=list(tokens.keys()))"
   ]
  },
  {
   "cell_type": "code",
   "execution_count": 68,
   "metadata": {},
   "outputs": [
    {
     "data": {
      "text/plain": [
       "array([7, 1, 5, 4, 8, 6, 9, 2, 1, 1, 3], dtype=int32)"
      ]
     },
     "execution_count": 68,
     "metadata": {},
     "output_type": "execute_result"
    }
   ],
   "source": [
    "fcluster(Z, 0.9, criterion='distance')"
   ]
  },
  {
   "cell_type": "markdown",
   "metadata": {},
   "source": [
    "# T-SNE"
   ]
  },
  {
   "cell_type": "code",
   "execution_count": 142,
   "metadata": {},
   "outputs": [],
   "source": [
    "from sklearn.manifold import TSNE"
   ]
  },
  {
   "cell_type": "code",
   "execution_count": 143,
   "metadata": {},
   "outputs": [
    {
     "name": "stderr",
     "output_type": "stream",
     "text": [
      "/home/connor/anaconda3/envs/ML/lib/python3.9/site-packages/sklearn/manifold/_t_sne.py:780: FutureWarning: The default initialization in TSNE will change from 'random' to 'pca' in 1.2.\n",
      "  warnings.warn(\n"
     ]
    }
   ],
   "source": [
    "tsne = TSNE(n_components=2, learning_rate='auto')\n",
    "\n",
    "TSNE_clusters = tsne.fit_transform(tfidf_matrix)"
   ]
  },
  {
   "cell_type": "code",
   "execution_count": 161,
   "metadata": {},
   "outputs": [
    {
     "data": {
      "text/html": [
       "<div>\n",
       "<style scoped>\n",
       "    .dataframe tbody tr th:only-of-type {\n",
       "        vertical-align: middle;\n",
       "    }\n",
       "\n",
       "    .dataframe tbody tr th {\n",
       "        vertical-align: top;\n",
       "    }\n",
       "\n",
       "    .dataframe thead th {\n",
       "        text-align: right;\n",
       "    }\n",
       "</style>\n",
       "<table border=\"1\" class=\"dataframe\">\n",
       "  <thead>\n",
       "    <tr style=\"text-align: right;\">\n",
       "      <th></th>\n",
       "      <th>tsne-1</th>\n",
       "      <th>tsne-2</th>\n",
       "      <th>y</th>\n",
       "    </tr>\n",
       "  </thead>\n",
       "  <tbody>\n",
       "    <tr>\n",
       "      <th>0</th>\n",
       "      <td>102.493866</td>\n",
       "      <td>33.272102</td>\n",
       "      <td>0</td>\n",
       "    </tr>\n",
       "    <tr>\n",
       "      <th>1</th>\n",
       "      <td>21.955439</td>\n",
       "      <td>40.880768</td>\n",
       "      <td>1</td>\n",
       "    </tr>\n",
       "    <tr>\n",
       "      <th>2</th>\n",
       "      <td>26.724407</td>\n",
       "      <td>-32.817394</td>\n",
       "      <td>0</td>\n",
       "    </tr>\n",
       "    <tr>\n",
       "      <th>3</th>\n",
       "      <td>-31.759233</td>\n",
       "      <td>101.498535</td>\n",
       "      <td>4</td>\n",
       "    </tr>\n",
       "    <tr>\n",
       "      <th>4</th>\n",
       "      <td>57.446392</td>\n",
       "      <td>110.992821</td>\n",
       "      <td>2</td>\n",
       "    </tr>\n",
       "    <tr>\n",
       "      <th>5</th>\n",
       "      <td>-100.383141</td>\n",
       "      <td>54.650162</td>\n",
       "      <td>0</td>\n",
       "    </tr>\n",
       "    <tr>\n",
       "      <th>6</th>\n",
       "      <td>-42.664532</td>\n",
       "      <td>-85.461624</td>\n",
       "      <td>2</td>\n",
       "    </tr>\n",
       "    <tr>\n",
       "      <th>7</th>\n",
       "      <td>-40.777489</td>\n",
       "      <td>1.815273</td>\n",
       "      <td>3</td>\n",
       "    </tr>\n",
       "    <tr>\n",
       "      <th>8</th>\n",
       "      <td>37.395897</td>\n",
       "      <td>-111.934486</td>\n",
       "      <td>1</td>\n",
       "    </tr>\n",
       "    <tr>\n",
       "      <th>9</th>\n",
       "      <td>-111.005966</td>\n",
       "      <td>-36.201389</td>\n",
       "      <td>1</td>\n",
       "    </tr>\n",
       "    <tr>\n",
       "      <th>10</th>\n",
       "      <td>104.529877</td>\n",
       "      <td>-49.788845</td>\n",
       "      <td>0</td>\n",
       "    </tr>\n",
       "  </tbody>\n",
       "</table>\n",
       "</div>"
      ],
      "text/plain": [
       "        tsne-1      tsne-2  y\n",
       "0   102.493866   33.272102  0\n",
       "1    21.955439   40.880768  1\n",
       "2    26.724407  -32.817394  0\n",
       "3   -31.759233  101.498535  4\n",
       "4    57.446392  110.992821  2\n",
       "5  -100.383141   54.650162  0\n",
       "6   -42.664532  -85.461624  2\n",
       "7   -40.777489    1.815273  3\n",
       "8    37.395897 -111.934486  1\n",
       "9  -111.005966  -36.201389  1\n",
       "10  104.529877  -49.788845  0"
      ]
     },
     "execution_count": 161,
     "metadata": {},
     "output_type": "execute_result"
    }
   ],
   "source": [
    "TSNE_clusters\n",
    "\n",
    "data = {'tsne-1': TSNE_clusters[:, 0], 'tsne-2': TSNE_clusters[:, 1], 'y': y}\n",
    "\n",
    "plot_tsne_df = pd.DataFrame(data)\n",
    "plot_tsne_df"
   ]
  },
  {
   "cell_type": "code",
   "execution_count": 178,
   "metadata": {},
   "outputs": [
    {
     "data": {
      "text/plain": [
       "<matplotlib.legend.Legend at 0x7fd7e131c880>"
      ]
     },
     "execution_count": 178,
     "metadata": {},
     "output_type": "execute_result"
    },
    {
     "data": {
      "image/png": "[encoded data removed]",
      "text/plain": [
       "<Figure size 576x576 with 1 Axes>"
      ]
     },
     "metadata": {
      "needs_background": "light"
     },
     "output_type": "display_data"
    }
   ],
   "source": [
    "fig, ax = plt.subplots(figsize=(8, 8))\n",
    "sns.scatterplot(\n",
    "    x=\"tsne-1\", y=\"tsne-2\",\n",
    "    hue=\"y\",\n",
    "    palette=sns.color_palette(\"hls\", 5),\n",
    "    data=plot_tsne_df,\n",
    "    legend=\"full\",\n",
    ")\n",
    "plt.legend(labels=[\"pharmacy\", \"ketmaine\", \"cannabis\", \"cars\", \"other\"])"
   ]
  },
  {
   "cell_type": "code",
   "execution_count": 145,
   "metadata": {},
   "outputs": [],
   "source": [
    "tsne_kmeans = KMeans(n_clusters=5)\n",
    "\n",
    "tsne_kmeans_clusters = kmeans.fit_transform(TSNE_clusters)\n",
    "\n",
    "cluster_labels = kmeans.labels_"
   ]
  },
  {
   "cell_type": "code",
   "execution_count": 149,
   "metadata": {},
   "outputs": [
    {
     "data": {
      "text/html": [
       "<div>\n",
       "<style scoped>\n",
       "    .dataframe tbody tr th:only-of-type {\n",
       "        vertical-align: middle;\n",
       "    }\n",
       "\n",
       "    .dataframe tbody tr th {\n",
       "        vertical-align: top;\n",
       "    }\n",
       "\n",
       "    .dataframe thead th {\n",
       "        text-align: right;\n",
       "    }\n",
       "</style>\n",
       "<table border=\"1\" class=\"dataframe\">\n",
       "  <thead>\n",
       "    <tr style=\"text-align: right;\">\n",
       "      <th></th>\n",
       "      <th>domain</th>\n",
       "      <th>cluster</th>\n",
       "      <th>total_spent</th>\n",
       "    </tr>\n",
       "  </thead>\n",
       "  <tbody>\n",
       "    <tr>\n",
       "      <th>0</th>\n",
       "      <td>prestigeglobalchem.com</td>\n",
       "      <td>2</td>\n",
       "      <td>36.50000</td>\n",
       "    </tr>\n",
       "    <tr>\n",
       "      <th>0</th>\n",
       "      <td>CJKETAMINESTORE.NET</td>\n",
       "      <td>2</td>\n",
       "      <td>55.00000</td>\n",
       "    </tr>\n",
       "    <tr>\n",
       "      <th>2</th>\n",
       "      <td>purechempharma.com</td>\n",
       "      <td>0</td>\n",
       "      <td>24.00000</td>\n",
       "    </tr>\n",
       "    <tr>\n",
       "      <th>1</th>\n",
       "      <td>tomh.uk</td>\n",
       "      <td>4</td>\n",
       "      <td>18.00000</td>\n",
       "    </tr>\n",
       "    <tr>\n",
       "      <th>2</th>\n",
       "      <td>jungleboyspacks.com</td>\n",
       "      <td>2</td>\n",
       "      <td>16.88000</td>\n",
       "    </tr>\n",
       "    <tr>\n",
       "      <th>2</th>\n",
       "      <td>FAITHSTANDARDPHARMACY.COM</td>\n",
       "      <td>4</td>\n",
       "      <td>12.00000</td>\n",
       "    </tr>\n",
       "    <tr>\n",
       "      <th>4</th>\n",
       "      <td>K2DRUGSTORE.COM</td>\n",
       "      <td>1</td>\n",
       "      <td>18.00000</td>\n",
       "    </tr>\n",
       "    <tr>\n",
       "      <th>1</th>\n",
       "      <td>vland-official.com</td>\n",
       "      <td>1</td>\n",
       "      <td>123.66876</td>\n",
       "    </tr>\n",
       "    <tr>\n",
       "      <th>0</th>\n",
       "      <td>megaketaminestore.com</td>\n",
       "      <td>3</td>\n",
       "      <td>24.00000</td>\n",
       "    </tr>\n",
       "    <tr>\n",
       "      <th>0</th>\n",
       "      <td>ketamineforsale.com</td>\n",
       "      <td>1</td>\n",
       "      <td>28.88000</td>\n",
       "    </tr>\n",
       "    <tr>\n",
       "      <th>3</th>\n",
       "      <td>MORRISAPOTEK.COM</td>\n",
       "      <td>0</td>\n",
       "      <td>12.00000</td>\n",
       "    </tr>\n",
       "  </tbody>\n",
       "</table>\n",
       "</div>"
      ],
      "text/plain": [
       "                      domain  cluster  total_spent\n",
       "0     prestigeglobalchem.com        2     36.50000\n",
       "0        CJKETAMINESTORE.NET        2     55.00000\n",
       "2         purechempharma.com        0     24.00000\n",
       "1                    tomh.uk        4     18.00000\n",
       "2        jungleboyspacks.com        2     16.88000\n",
       "2  FAITHSTANDARDPHARMACY.COM        4     12.00000\n",
       "4            K2DRUGSTORE.COM        1     18.00000\n",
       "1         vland-official.com        1    123.66876\n",
       "0      megaketaminestore.com        3     24.00000\n",
       "0        ketamineforsale.com        1     28.88000\n",
       "3           MORRISAPOTEK.COM        0     12.00000"
      ]
     },
     "execution_count": 149,
     "metadata": {},
     "output_type": "execute_result"
    }
   ],
   "source": [
    "tsne_domains = {'domain': tokens.keys(), 'cluster': cluster_labels, 'total_spent': list(costs.values())}\n",
    "\n",
    "tsne_df = pd.DataFrame(tsne_domains, index=[clusters], columns=['domain', 'cluster', 'total_spent'])\n",
    "\n",
    "tsne_df"
   ]
  },
  {
   "cell_type": "code",
   "execution_count": 150,
   "metadata": {},
   "outputs": [
    {
     "data": {
      "text/plain": [
       "cluster\n",
       "0    18.000000\n",
       "1    56.849587\n",
       "2    36.126667\n",
       "3    24.000000\n",
       "4    15.000000\n",
       "Name: total_spent, dtype: float64"
      ]
     },
     "execution_count": 150,
     "metadata": {},
     "output_type": "execute_result"
    }
   ],
   "source": [
    "tsne_total_spent = tsne_df['total_spent'].groupby(tsne_df['cluster'])\n",
    "\n",
    "tsne_total_spent.mean()"
   ]
  },
  {
   "cell_type": "code",
   "execution_count": 151,
   "metadata": {},
   "outputs": [
    {
     "name": "stdout",
     "output_type": "stream",
     "text": [
      "               domain  cluster  total_spent\n",
      "2  purechempharma.com        0         24.0\n",
      "3    MORRISAPOTEK.COM        0         12.0 \n",
      "\n",
      "\n",
      "                domain  cluster  total_spent\n",
      "4      K2DRUGSTORE.COM        1     18.00000\n",
      "1   vland-official.com        1    123.66876\n",
      "0  ketamineforsale.com        1     28.88000 \n",
      "\n",
      "\n",
      "                   domain  cluster  total_spent\n",
      "0  prestigeglobalchem.com        2        36.50\n",
      "0     CJKETAMINESTORE.NET        2        55.00\n",
      "2     jungleboyspacks.com        2        16.88 \n",
      "\n",
      "\n",
      "                  domain  cluster  total_spent\n",
      "0  megaketaminestore.com        3         24.0 \n",
      "\n",
      "\n",
      "                      domain  cluster  total_spent\n",
      "1                    tomh.uk        4         18.0\n",
      "2  FAITHSTANDARDPHARMACY.COM        4         12.0 \n",
      "\n",
      "\n"
     ]
    }
   ],
   "source": [
    "grouped_df = tsne_df.groupby('cluster')\n",
    "for key, item in grouped_df:\n",
    "    print(grouped_df.get_group(key), \"\\n\\n\")"
   ]
  },
  {
   "cell_type": "code",
   "execution_count": null,
   "metadata": {},
   "outputs": [],
   "source": []
  }
 ],
 "metadata": {
  "kernelspec": {
   "display_name": "Python [conda env:ML]",
   "language": "python",
   "name": "conda-env-ML-py"
  },
  "language_info": {
   "codemirror_mode": {
    "name": "ipython",
    "version": 3
   },
   "file_extension": ".py",
   "mimetype": "text/x-python",
   "name": "python",
   "nbconvert_exporter": "python",
   "pygments_lexer": "ipython3",
   "version": "3.9.7"
  }
 },
 "nbformat": 4,
 "nbformat_minor": 4
}
